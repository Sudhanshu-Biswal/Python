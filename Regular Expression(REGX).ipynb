{
 "cells": [
  {
   "cell_type": "code",
   "execution_count": 1,
   "id": "c1da7094",
   "metadata": {},
   "outputs": [],
   "source": [
    "import re"
   ]
  },
  {
   "cell_type": "code",
   "execution_count": 2,
   "id": "35ea2e69",
   "metadata": {},
   "outputs": [
    {
     "data": {
      "text/plain": [
       "['9348789166', '(999)-123-7788']"
      ]
     },
     "execution_count": 2,
     "metadata": {},
     "output_type": "execute_result"
    }
   ],
   "source": [
    "text = \"\"\"\n",
    "helllo everyone this is my phone number 9348789166 and my home is at 12st house number is 153 street 4\n",
    "my friend number is (999)-123-7788\n",
    "\"\"\"\n",
    "pattern = \"\\(\\d{3}\\)-\\d{3}-\\d{4}|\\d{10}\"\n",
    "matches = re.findall(pattern,text)\n",
    "matches"
   ]
  },
  {
   "cell_type": "code",
   "execution_count": 3,
   "id": "c33b0b0a",
   "metadata": {},
   "outputs": [
    {
     "data": {
      "text/plain": [
       "['Overview', 'Summary of Significant Accounting Policies']"
      ]
     },
     "execution_count": 3,
     "metadata": {},
     "output_type": "execute_result"
    }
   ],
   "source": [
    "text = '''\n",
    "Note 1 - Overview\n",
    "Tesla, Inc. (“Tesla”, the “Company”, “we”, “us” or “our”) was incorporated in the State of Delaware on July 1, 2003. We design, develop, manufacture and sell high-performance fully electric vehicles and design, manufacture, install and sell solar energy generation and energy storage\n",
    "products. Our Chief Executive Officer, as the chief operating decision maker (“CODM”), organizes our company, manages resource allocations and measures performance among two operating and reportable segments: (i) automotive and (ii) energy generation and storage.\n",
    "Beginning in the first quarter of 2021, there has been a trend in many parts of the world of increasing availability and administration of vaccines\n",
    "against COVID-19, as well as an easing of restrictions on social, business, travel and government activities and functions. On the other hand, infection\n",
    "rates and regulations continue to fluctuate in various regions and there are ongoing global impacts resulting from the pandemic, including challenges\n",
    "and increases in costs for logistics and supply chains, such as increased port congestion, intermittent supplier delays and a shortfall of semiconductor\n",
    "supply. We have also previously been affected by temporary manufacturing closures, employment and compensation adjustments and impediments to\n",
    "administrative activities supporting our product deliveries and deployments.\n",
    "Note 2 - Summary of Significant Accounting Policies\n",
    "Unaudited Interim Financial Statements\n",
    "The consolidated balance sheet as of September 30, 2021, the consolidated statements of operations, the consolidated statements of\n",
    "comprehensive income, the consolidated statements of redeemable noncontrolling interests and equity for the three and nine months ended September\n",
    "30, 2021 and 2020 and the consolidated statements of cash flows for the nine months ended September 30, 2021 and 2020, as well as other information\n",
    "disclosed in the accompanying notes, are unaudited. The consolidated balance sheet as of December 31, 2020 was derived from the audited\n",
    "consolidated financial statements as of that date. The interim consolidated financial statements and the accompanying notes should be read in\n",
    "conjunction with the annual consolidated financial statements and the accompanying notes contained in our Annual Report on Form 10-K for the year\n",
    "ended December 31, 2020.\n",
    "'''\n",
    "pattern = \"Note \\d - ([^\\n]*)\"\n",
    "matches = re.findall(pattern,text)\n",
    "matches"
   ]
  },
  {
   "cell_type": "code",
   "execution_count": 6,
   "id": "d3dbcaf2",
   "metadata": {},
   "outputs": [
    {
     "data": {
      "text/plain": [
       "['2021 Q1', '2020 Q4']"
      ]
     },
     "execution_count": 6,
     "metadata": {},
     "output_type": "execute_result"
    }
   ],
   "source": [
    "text = '''\n",
    "The gross cost of operating lease vehicles in FY2021 Q1 was $4.85 billion.\n",
    "In previous quarter i.e. FY2020 Q4 it was $3 billion. \n",
    "'''\n",
    "pattern = \"FY(\\d{4} Q[1-4])\"\n",
    "matches = re.findall(pattern,text,flags=re.IGNORECASE)\n",
    "matches"
   ]
  },
  {
   "cell_type": "code",
   "execution_count": 7,
   "id": "f9b7d10d",
   "metadata": {},
   "outputs": [
    {
     "data": {
      "text/plain": [
       "['4.85', '3']"
      ]
     },
     "execution_count": 7,
     "metadata": {},
     "output_type": "execute_result"
    }
   ],
   "source": [
    "text = '''\n",
    "The gross cost of operating lease vehicles in FY2021 Q1 was $4.85 billion.\n",
    "In previous quarter i.e. FY2020 Q4 it was $3 billion. \n",
    "'''\n",
    "pattern = \"\\$([0-9\\.]+)\"\n",
    "matches = re.findall(pattern,text,flags=re.IGNORECASE)\n",
    "matches"
   ]
  },
  {
   "cell_type": "code",
   "execution_count": 8,
   "id": "bad74766",
   "metadata": {},
   "outputs": [
    {
     "data": {
      "text/plain": [
       "[('2021 Q1', '4.85'), ('2020 Q4', '3')]"
      ]
     },
     "execution_count": 8,
     "metadata": {},
     "output_type": "execute_result"
    }
   ],
   "source": [
    "text = \"\"\"\n",
    "The gross cost of operating lease vehicles in FY2021 Q1 was $4.85 billion.\n",
    "In previous quarter i.e. FY2020 Q4 it was $3 billion.\n",
    "FY2021 Q1 ==> 4.85\n",
    "FY2020 Q4 ==> 3\n",
    "\"\"\"\n",
    "\n",
    "pattern = \"FY(\\d{4} Q[1-4])[^\\$]+\\$([0-9\\.]+)\"\n",
    "matches = re.findall(pattern,text,flags=re.IGNORECASE)\n",
    "matches"
   ]
  },
  {
   "cell_type": "code",
   "execution_count": 9,
   "id": "ec70da97",
   "metadata": {},
   "outputs": [
    {
     "data": {
      "text/plain": [
       "<re.Match object; span=(47, 66), match='FY2021 Q1 was $4.85'>"
      ]
     },
     "execution_count": 9,
     "metadata": {},
     "output_type": "execute_result"
    }
   ],
   "source": [
    "text = \"\"\"\n",
    "The gross cost of operating lease vehicles in FY2021 Q1 was $4.85 billion.\n",
    "In previous quarter i.e. FY2020 Q4 it was $3 billion.\n",
    "FY2021 Q1 ==> 4.85\n",
    "FY2020 Q4 ==> 3\n",
    "\"\"\"\n",
    "pattern = \"FY(\\d{4} Q[1-4])[^\\$]+\\$([0-9\\.]+)\"\n",
    "matches = re.search(pattern,text)\n",
    "matches\n"
   ]
  },
  {
   "cell_type": "code",
   "execution_count": 10,
   "id": "7ea97e69",
   "metadata": {},
   "outputs": [
    {
     "data": {
      "text/plain": [
       "('2021 Q1', '4.85')"
      ]
     },
     "execution_count": 10,
     "metadata": {},
     "output_type": "execute_result"
    }
   ],
   "source": [
    "matches.groups()"
   ]
  },
  {
   "cell_type": "code",
   "execution_count": 12,
   "id": "2a319fe9",
   "metadata": {},
   "outputs": [
    {
     "name": "stdout",
     "output_type": "stream",
     "text": [
      "<re.Match object; span=(9, 10), match='.'>\n"
     ]
    }
   ],
   "source": [
    "a = \"charlie and the chocolate factory\"\n",
    "b = \"sudhanshu.biswal@gmail.com\"\n",
    "c = \"hello\"\n",
    "d = \"xyz,yz,xyzz,xyyz,xxzzy,zyz,xxy\"\n",
    "\n",
    "match = re.search(r\"\\.\",b)\n",
    "print(match)"
   ]
  },
  {
   "cell_type": "code",
   "execution_count": 13,
   "id": "8241eee2",
   "metadata": {},
   "outputs": [],
   "source": [
    "#function presents in regx\n",
    "#--> findall, --> search, --> split, --> sub, --> finditer"
   ]
  },
  {
   "cell_type": "raw",
   "id": "dec1b118",
   "metadata": {},
   "source": [
    "Meta Characters\n",
    "[] A set of characters\n",
    "\\ Signals a special sequence (can also be used to escape special characters)\n",
    ". Any character (except newline character)\n",
    "^ Starts with\n",
    "$ Ends with\n",
    "* Zero or more occurrences\n",
    "+ One or more occurrences\n",
    "{} Exactly the specified number of occurrences\n",
    "| Either or\n",
    "() Capture and group"
   ]
  },
  {
   "cell_type": "raw",
   "id": "021dd953",
   "metadata": {},
   "source": [
    "Special Sequences\n",
    "\\A Returns a match if the specified characters are at the beginning of the string\n",
    "\\b Returns a match where the specified characters are at the beginning or at the end of a word r” ain\\b.”\n",
    "\\B Returns a match where the specified characters are present, but NOT at the beginning (or at the end) of a word\n",
    "\n",
    "\\d Returns a match where the string contains digits (numbers from 0-9)\n",
    "\\D Returns a match where the string DOES NOT contain digits\n",
    "\\s Returns a match where the string contains a white space character\n",
    "\\S Returns a match where the string DOES NOT contain a white space character\n",
    "\\w Returns a match where the string contains any word characters (characters from a to Z, digits from 0-9, and the underscore _ character)\n",
    "\\W Returns a match where the string DOES NOT contain any word characters\n",
    "\\Z Returns a match if the specified characters are at the end of the string"
   ]
  },
  {
   "cell_type": "code",
   "execution_count": 14,
   "id": "f8e5317e",
   "metadata": {},
   "outputs": [
    {
     "name": "stdout",
     "output_type": "stream",
     "text": [
      "<re.Match object; span=(284, 294), match='22209-1911'>\n"
     ]
    },
    {
     "data": {
      "text/plain": [
       "'\\n\\n\\n'"
      ]
     },
     "execution_count": 14,
     "metadata": {},
     "output_type": "execute_result"
    }
   ],
   "source": [
    "\n",
    "import re\n",
    "mystr = '''Tata Limited\n",
    "Dr. David Landsman, executive director\n",
    "18, Grosvenor Place\n",
    "London SW1X 7HSc\n",
    "Phone: +44 (20) 7235 8281\n",
    "Fax: +44 (20) 7235 8727\n",
    "Email: tata@tata.co.uk\n",
    "Website: www.europe.tata.com\n",
    "Directions: View map\n",
    "\n",
    "Tata Sons, North America\n",
    "1700 North Moore St, Suite 1520\n",
    "Arlington, VA 22209-1911\n",
    "USA\n",
    "Phone: +1 (703) 243 9787\n",
    "Fax: +1 (703) 243 9791\n",
    "66-66\n",
    "455-4545\n",
    "Email: northamerica@tata.com \n",
    "Website: www.northamerica.tata.com\n",
    "Directions: View map fass\n",
    "harry bhai lekin\n",
    "bahut hi badia aadmi haiaiinaiiiiiiiiiiii'''\n",
    "\n",
    "# findall, search, split, sub, finditer\n",
    "# patt = re.compile(r'fass')\n",
    "# patt = re.compile(r'.adm')\n",
    "# patt = re.compile(r'^Tata')\n",
    "# patt = re.compile(r'iin$')\n",
    "# patt = re.compile(r'ai{2}')\n",
    "# patt = re.compile(r'(ai){1}')\n",
    "# patt = re.compile(r'ai{1}|Fax')\n",
    "\n",
    "\n",
    "# Special Sequences\n",
    "# patt = re.compile(r'Fax\\b')\n",
    "# patt = re.compile(r'27\\b')\n",
    "patt = re.compile(r'\\d{5}-\\d{4}')\n",
    "# Task\n",
    "# Given a string with a lot of indian phone numbers starting from +91\n",
    "\n",
    "matches = patt.finditer(mystr)\n",
    "for match in matches:\n",
    "    print(match)\n",
    "\n",
    "\n",
    "\"\"\"\n",
    "\n",
    "\n",
    "\"\"\"\n"
   ]
  },
  {
   "cell_type": "code",
   "execution_count": 16,
   "id": "b930223b",
   "metadata": {},
   "outputs": [
    {
     "name": "stdout",
     "output_type": "stream",
     "text": [
      "<re.Match object; span=(1, 4), match='abc'>\n"
     ]
    }
   ],
   "source": [
    "text_to_search = '''\n",
    "abcdefghijklmnopqurtuvwxyz\n",
    "ABCDEFGHIJKLMNOPQRSTUVWXYZ\n",
    "1234567890\n",
    "Ha HaHa\n",
    "MetaCharacters (Need to be escaped):\n",
    ". ^ $ * + ? { } [ ] \\ | ( )\n",
    "coreyms.com\n",
    "321-555-4321\n",
    "123.555.1234\n",
    "123*555*1234\n",
    "800-555-1234\n",
    "900-555-1234\n",
    "Mr. Schafer\n",
    "Mr Smith\n",
    "Ms Davis\n",
    "Mrs. Robinson\n",
    "Mr. T\n",
    "'''\n",
    "\n",
    "sentence = \"Start a sentence and then bring it to an end\"\n",
    "pattern = re.compile(r'abc')\n",
    "matches = pattern.finditer(text_to_search)\n",
    "for match in matches:\n",
    "    print(match)\n",
    "\n"
   ]
  },
  {
   "cell_type": "code",
   "execution_count": 24,
   "id": "dd2e4d4d",
   "metadata": {},
   "outputs": [
    {
     "name": "stdout",
     "output_type": "stream",
     "text": [
      "<re.Match object; span=(104, 116), match='800-555-1234'>\n",
      "<re.Match object; span=(117, 129), match='900-555-1234'>\n"
     ]
    }
   ],
   "source": [
    "text = \"\"\"\n",
    "hii this is my number 123.345.900\n",
    "my friend number is 157-994-893\n",
    "another number is 099*739*099\n",
    "hello \n",
    "800-555-1234\n",
    "900-555-1234\n",
    "\n",
    "\"\"\"\n",
    "#pattern  = re.compile(r\"\\d\\d\\d[.-]\\d\\d\\d[.-]\\d\\d\\d\")\n",
    "pattern  = re.compile(r\"[89]00[.-]\\d{3}[.-]\\d{4}\")\n",
    "\n",
    "matches = pattern.finditer(text)\n",
    "for match in matches:\n",
    "    print(match)\n"
   ]
  },
  {
   "cell_type": "code",
   "execution_count": 27,
   "id": "77838c26",
   "metadata": {},
   "outputs": [
    {
     "name": "stdout",
     "output_type": "stream",
     "text": [
      "<re.Match object; span=(216, 227), match='Mr. Schafer'>\n",
      "<re.Match object; span=(228, 236), match='Mr Smith'>\n",
      "<re.Match object; span=(237, 245), match='Ms Davis'>\n",
      "<re.Match object; span=(246, 259), match='Mrs. Robinson'>\n",
      "<re.Match object; span=(260, 265), match='Mr. T'>\n"
     ]
    }
   ],
   "source": [
    "text_to_search = '''\n",
    "abcdefghijklmnopqurtuvwxyz\n",
    "ABCDEFGHIJKLMNOPQRSTUVWXYZ\n",
    "1234567890\n",
    "Ha HaHa\n",
    "MetaCharacters (Need to be escaped):\n",
    ". ^ $ * + ? { } [ ] \\ | ( )\n",
    "coreyms.com\n",
    "321-555-4321\n",
    "123.555.1234\n",
    "123*555*1234\n",
    "800-555-1234\n",
    "900-555-1234\n",
    "Mr. Schafer\n",
    "Mr Smith\n",
    "Ms Davis\n",
    "Mrs. Robinson\n",
    "Mr. T\n",
    "'''\n",
    "\n",
    "sentence = \"Start a sentence and then bring it to an end\"\n",
    "pattern = re.compile(r'(Mr|Ms|Mrs)\\.?\\s[A-Z]\\w*')\n",
    "matches = pattern.finditer(text_to_search)\n",
    "for match in matches:\n",
    "    print(match)\n",
    "\n"
   ]
  },
  {
   "cell_type": "code",
   "execution_count": 34,
   "id": "357cff97",
   "metadata": {},
   "outputs": [
    {
     "name": "stdout",
     "output_type": "stream",
     "text": [
      "<re.Match object; span=(1, 24), match='CoreyMSchafer@gmail.com'>\n",
      "<re.Match object; span=(25, 53), match='corey.schafer@university.edu'>\n",
      "<re.Match object; span=(54, 83), match='corey-321-schafer@my-work.net'>\n"
     ]
    }
   ],
   "source": [
    "emails = '''\n",
    "CoreyMSchafer@gmail.com\n",
    "corey.schafer@university.edu\n",
    "corey-321-schafer@my-work.net\n",
    "'''\n",
    "pattern = re.compile(r\"[a-zA-Z0-9.-]+@[a-zA-Z-]+\\.(com|edu|net)\")\n",
    "matches = pattern.finditer(emails)\n",
    "for match in matches:\n",
    "    print(match)"
   ]
  },
  {
   "cell_type": "code",
   "execution_count": 38,
   "id": "192a5bbd",
   "metadata": {},
   "outputs": [
    {
     "name": "stdout",
     "output_type": "stream",
     "text": [
      "<re.Match object; span=(1, 24), match='CoreyMSchafer@gmail.com'>\n",
      "<re.Match object; span=(25, 53), match='corey.schafer@university.edu'>\n",
      "<re.Match object; span=(54, 83), match='corey-321-schafer@my-work.net'>\n"
     ]
    }
   ],
   "source": [
    "emails = '''\n",
    "CoreyMSchafer@gmail.com\n",
    "corey.schafer@university.edu\n",
    "corey-321-schafer@my-work.net\n",
    "'''\n",
    "pattern = re.compile(r\"[a-zA-Z0-9.-]+@[a-zA-Z-]+\\.(com|edu|net)\")\n",
    "matches = pattern.finditer(emails)\n",
    "for match in matches:\n",
    "    print(match)"
   ]
  },
  {
   "cell_type": "code",
   "execution_count": 40,
   "id": "71f4d2b9",
   "metadata": {},
   "outputs": [
    {
     "name": "stdout",
     "output_type": "stream",
     "text": [
      "<re.Match object; span=(1, 23), match='https://www.google.com'>\n",
      "<re.Match object; span=(24, 42), match='http://coreyms.com'>\n",
      "<re.Match object; span=(43, 62), match='https://youtube.com'>\n",
      "<re.Match object; span=(63, 83), match='https://www.nasa.gov'>\n"
     ]
    }
   ],
   "source": [
    "urls = '''\n",
    "https://www.google.com\n",
    "http://coreyms.com\n",
    "https://youtube.com\n",
    "https://www.nasa.gov\n",
    "'''\n",
    "pattern = re.compile(r\"https?://(www\\.)?(\\w+)(\\.\\w+)\")\n",
    "matches = pattern.finditer(urls)\n",
    "for match in matches:\n",
    "    print(match)"
   ]
  },
  {
   "cell_type": "code",
   "execution_count": 41,
   "id": "1fe18785",
   "metadata": {},
   "outputs": [
    {
     "name": "stdout",
     "output_type": "stream",
     "text": [
      ".com\n",
      ".com\n",
      ".com\n",
      ".gov\n"
     ]
    }
   ],
   "source": [
    "pattern = re.compile(r\"https?://(www\\.)?(\\w+)(\\.\\w+)\")\n",
    "matches = pattern.finditer(urls)\n",
    "for match in matches:\n",
    "    print(match.group(3))"
   ]
  },
  {
   "cell_type": "code",
   "execution_count": 42,
   "id": "ee8d0e05",
   "metadata": {},
   "outputs": [],
   "source": [
    "subbed_urls = pattern.sub(r\"\\2\\3\",urls)"
   ]
  },
  {
   "cell_type": "code",
   "execution_count": 43,
   "id": "51d55e94",
   "metadata": {},
   "outputs": [
    {
     "name": "stdout",
     "output_type": "stream",
     "text": [
      "\n",
      "google.com\n",
      "coreyms.com\n",
      "youtube.com\n",
      "nasa.gov\n",
      "\n"
     ]
    }
   ],
   "source": [
    "print(subbed_urls)"
   ]
  },
  {
   "cell_type": "code",
   "execution_count": null,
   "id": "b130b3fc",
   "metadata": {},
   "outputs": [],
   "source": []
  }
 ],
 "metadata": {
  "kernelspec": {
   "display_name": "Python 3 (ipykernel)",
   "language": "python",
   "name": "python3"
  },
  "language_info": {
   "codemirror_mode": {
    "name": "ipython",
    "version": 3
   },
   "file_extension": ".py",
   "mimetype": "text/x-python",
   "name": "python",
   "nbconvert_exporter": "python",
   "pygments_lexer": "ipython3",
   "version": "3.7.13"
  }
 },
 "nbformat": 4,
 "nbformat_minor": 5
}
