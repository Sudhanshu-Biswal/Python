{
 "cells": [
  {
   "cell_type": "code",
   "execution_count": 1,
   "id": "75f5b2ab",
   "metadata": {},
   "outputs": [
    {
     "data": {
      "text/plain": [
       "'0b10'"
      ]
     },
     "execution_count": 1,
     "metadata": {},
     "output_type": "execute_result"
    }
   ],
   "source": [
    "bin(2)"
   ]
  },
  {
   "cell_type": "code",
   "execution_count": 2,
   "id": "26e45d99",
   "metadata": {},
   "outputs": [
    {
     "name": "stdout",
     "output_type": "stream",
     "text": [
      "enter a 3 digit number: 123\n",
      "6\n"
     ]
    }
   ],
   "source": [
    "num = int(input(\"enter a 3 digit number: \"))\n",
    "a=num%10\n",
    "num=num//10\n",
    "b=num%10\n",
    "num=num//10\n",
    "c=num%10\n",
    "print(a+b+c)"
   ]
  },
  {
   "cell_type": "code",
   "execution_count": 3,
   "id": "cf094de4",
   "metadata": {},
   "outputs": [
    {
     "name": "stdout",
     "output_type": "stream",
     "text": [
      "3\n"
     ]
    }
   ],
   "source": [
    "print(a)"
   ]
  },
  {
   "cell_type": "code",
   "execution_count": 4,
   "id": "575c3c16",
   "metadata": {},
   "outputs": [
    {
     "name": "stdout",
     "output_type": "stream",
     "text": [
      "enter a 3 digit number: 123\n"
     ]
    }
   ],
   "source": [
    "num = int(input(\"enter a 3 digit number: \"))\n"
   ]
  },
  {
   "cell_type": "code",
   "execution_count": 5,
   "id": "03edc5eb",
   "metadata": {},
   "outputs": [
    {
     "name": "stdout",
     "output_type": "stream",
     "text": [
      "hii\n",
      "0.0001552104949951172\n"
     ]
    }
   ],
   "source": [
    "import time\n",
    "start = time.time()\n",
    "print(\"hii\")\n",
    "end=time.time()\n",
    "now=end-start\n",
    "print(now)"
   ]
  },
  {
   "cell_type": "code",
   "execution_count": 6,
   "id": "ae6988a6",
   "metadata": {},
   "outputs": [
    {
     "name": "stdout",
     "output_type": "stream",
     "text": [
      "10 10000\n",
      "9 9090.90909090909\n",
      "8 8264.462809917353\n",
      "7 7513.148009015775\n",
      "6 6830.134553650703\n",
      "5 6209.213230591548\n",
      "4 5644.739300537771\n",
      "3 5131.5811823070635\n",
      "2 4665.07380209733\n",
      "1 4240.976183724845\n"
     ]
    }
   ],
   "source": [
    "cur_population = 10000\n",
    "for i in range(10,0,-1):\n",
    "    print(i,cur_population)\n",
    "    cur_population = cur_population/1.1"
   ]
  },
  {
   "cell_type": "code",
   "execution_count": 7,
   "id": "de1aecaf",
   "metadata": {},
   "outputs": [
    {
     "name": "stdout",
     "output_type": "stream",
     "text": [
      "enter a number: 234\n",
      "2.7182818284590455\n"
     ]
    }
   ],
   "source": [
    "num = int(input(\"enter a number: \"))\n",
    "result=0\n",
    "fact=1\n",
    "for i in range(1,num+1):\n",
    "    fact = fact*i\n",
    "    result = result+i/fact\n",
    "print(result)"
   ]
  },
  {
   "cell_type": "code",
   "execution_count": 8,
   "id": "b56beea2",
   "metadata": {},
   "outputs": [
    {
     "name": "stdout",
     "output_type": "stream",
     "text": [
      "1 1\n",
      "1 2\n",
      "1 3\n",
      "1 4\n",
      "2 1\n",
      "2 2\n",
      "2 3\n",
      "2 4\n",
      "3 1\n",
      "3 2\n",
      "3 3\n",
      "3 4\n",
      "4 1\n",
      "4 2\n",
      "4 3\n",
      "4 4\n"
     ]
    }
   ],
   "source": [
    "for i in range(1,5):\n",
    "    for j in range(1,5):\n",
    "        print(i,j)"
   ]
  },
  {
   "cell_type": "code",
   "execution_count": 9,
   "id": "6f59280c",
   "metadata": {},
   "outputs": [
    {
     "name": "stdout",
     "output_type": "stream",
     "text": [
      "enter a number: 3\n",
      "*\n",
      "**\n",
      "***\n"
     ]
    }
   ],
   "source": [
    "n = int(input(\"enter a number: \"))\n",
    "for i in range(1,n+1):\n",
    "    for j in range(1,i+1):\n",
    "        print(\"*\",end='')\n",
    "    print()"
   ]
  },
  {
   "cell_type": "code",
   "execution_count": 10,
   "id": "296450ac",
   "metadata": {},
   "outputs": [
    {
     "name": "stdout",
     "output_type": "stream",
     "text": [
      "enter a number: 3\n",
      "*\n",
      "**\n",
      "***\n"
     ]
    }
   ],
   "source": [
    "n = int(input(\"enter a number: \"))\n",
    "for i in range(1,n+1):\n",
    "    for j in range(1,i+1):\n",
    "        print(\"*\",end='')\n",
    "    print()"
   ]
  },
  {
   "cell_type": "code",
   "execution_count": 11,
   "id": "96e6087a",
   "metadata": {},
   "outputs": [
    {
     "name": "stdout",
     "output_type": "stream",
     "text": [
      "enter a number: 4\n",
      "1\n",
      "121\n",
      "12321\n",
      "1234321\n"
     ]
    }
   ],
   "source": [
    "n = int(input(\"enter a number: \"))\n",
    "for i in range(1,n+1):\n",
    "    for j in range(1,i+1):\n",
    "        print(j,end=\"\")\n",
    "    for k in range(i-1,0,-1):\n",
    "        print(k,end='')\n",
    "    print()"
   ]
  },
  {
   "cell_type": "code",
   "execution_count": 12,
   "id": "a3e2e314",
   "metadata": {},
   "outputs": [
    {
     "name": "stdout",
     "output_type": "stream",
     "text": [
      "enter a number: 3\n",
      "1\n",
      "121\n",
      "12321\n"
     ]
    }
   ],
   "source": [
    "n = int(input(\"enter a number: \"))\n",
    "for i in range(1,n+1):\n",
    "    for j in range(1,i+1):\n",
    "        print(j,end='')\n",
    "    for k in range(i-1,0,-1):\n",
    "        print(k,end='')\n",
    "    print()"
   ]
  },
  {
   "cell_type": "code",
   "execution_count": 13,
   "id": "4e2d9355",
   "metadata": {},
   "outputs": [
    {
     "name": "stdout",
     "output_type": "stream",
     "text": [
      "enter a number: 4\n",
      "*\n",
      "**\n",
      "***\n",
      "****\n"
     ]
    }
   ],
   "source": [
    "n = int(input(\"enter a number: \"))\n",
    "for i in range(1,n+1):\n",
    "    for j in range(1,i+1):\n",
    "        print(\"*\",end=\"\")\n",
    "    print()"
   ]
  },
  {
   "cell_type": "code",
   "execution_count": 14,
   "id": "15c9fea6",
   "metadata": {},
   "outputs": [
    {
     "name": "stdout",
     "output_type": "stream",
     "text": [
      "enter a number: 3\n",
      "1\n",
      "121\n",
      "12321\n"
     ]
    }
   ],
   "source": [
    "n = int(input(\"enter a number: \"))\n",
    "for i in range(1,n+1):\n",
    "    for j in range(1,i+1):\n",
    "        print(j,end='')\n",
    "    for k in range(i-1,0,-1):\n",
    "        print(k,end='')\n",
    "    print()"
   ]
  },
  {
   "cell_type": "code",
   "execution_count": 15,
   "id": "d2e74c8f",
   "metadata": {},
   "outputs": [
    {
     "name": "stdout",
     "output_type": "stream",
     "text": [
      "1\n",
      "2\n",
      "3\n",
      "4\n"
     ]
    }
   ],
   "source": [
    "for i in range(1,10):\n",
    "    if i==5:\n",
    "        break\n",
    "    print(i)"
   ]
  },
  {
   "cell_type": "code",
   "execution_count": 16,
   "id": "527c81e5",
   "metadata": {},
   "outputs": [
    {
     "name": "stdout",
     "output_type": "stream",
     "text": [
      "enter lower range23\n",
      "enter upper range111\n",
      "23\n",
      "29\n",
      "31\n",
      "37\n",
      "41\n",
      "43\n",
      "47\n",
      "53\n",
      "59\n",
      "61\n",
      "67\n",
      "71\n",
      "73\n",
      "79\n",
      "83\n",
      "89\n",
      "97\n",
      "101\n",
      "103\n",
      "107\n",
      "109\n"
     ]
    }
   ],
   "source": [
    "lower=int(input(\"enter lower range\"))\n",
    "upper=int(input(\"enter upper range\"))\n",
    "for i in range(lower,upper+1):\n",
    "    for j in range(2,i):\n",
    "        if i%j==0:\n",
    "            break\n",
    "    else:\n",
    "        print(i)"
   ]
  },
  {
   "cell_type": "code",
   "execution_count": 17,
   "id": "aebd3bbc",
   "metadata": {},
   "outputs": [
    {
     "name": "stdout",
     "output_type": "stream",
     "text": [
      "enter a number: 2\n",
      "prime\n"
     ]
    }
   ],
   "source": [
    "n = int(input(\"enter a number: \"))\n",
    "if n>1:\n",
    "    for i in range(2,n):\n",
    "        if n%i==0:\n",
    "            print(\"not prime\")\n",
    "            break\n",
    "    else:\n",
    "        print(\"prime\")\n",
    "else:\n",
    "    print(\"not a prime\")"
   ]
  },
  {
   "cell_type": "code",
   "execution_count": 18,
   "id": "5333e55a",
   "metadata": {},
   "outputs": [
    {
     "name": "stdout",
     "output_type": "stream",
     "text": [
      "enter lower range2\n",
      "enter upper range4\n",
      "2\n",
      "3\n"
     ]
    }
   ],
   "source": [
    "lower=int(input(\"enter lower range\"))\n",
    "upper=int(input(\"enter upper range\"))\n",
    "for i in range(lower,upper+1):\n",
    "    for j in range(2,i):\n",
    "        if i%j==0:\n",
    "            break\n",
    "    else:\n",
    "        print(i)"
   ]
  },
  {
   "cell_type": "code",
   "execution_count": 19,
   "id": "6d850d86",
   "metadata": {},
   "outputs": [],
   "source": [
    "s = str(\"hello\")"
   ]
  },
  {
   "cell_type": "code",
   "execution_count": 20,
   "id": "18a6c555",
   "metadata": {},
   "outputs": [
    {
     "ename": "TypeError",
     "evalue": "'str' object does not support item deletion",
     "output_type": "error",
     "traceback": [
      "\u001b[0;31m---------------------------------------------------------------------------\u001b[0m",
      "\u001b[0;31mTypeError\u001b[0m                                 Traceback (most recent call last)",
      "Input \u001b[0;32mIn [20]\u001b[0m, in \u001b[0;36m<cell line: 2>\u001b[0;34m()\u001b[0m\n\u001b[1;32m      1\u001b[0m s \u001b[38;5;241m=\u001b[39m \u001b[38;5;124m\"\u001b[39m\u001b[38;5;124mhello world\u001b[39m\u001b[38;5;124m\"\u001b[39m\n\u001b[0;32m----> 2\u001b[0m \u001b[38;5;28;01mdel\u001b[39;00m s[\u001b[38;5;241m-\u001b[39m\u001b[38;5;241m1\u001b[39m:\u001b[38;5;241m-\u001b[39m\u001b[38;5;241m6\u001b[39m:\u001b[38;5;241m-\u001b[39m\u001b[38;5;241m1\u001b[39m]\n\u001b[1;32m      3\u001b[0m \u001b[38;5;28mprint\u001b[39m(s)\n",
      "\u001b[0;31mTypeError\u001b[0m: 'str' object does not support item deletion"
     ]
    }
   ],
   "source": [
    "s = \"hello world\"\n",
    "del s[-1:-6:-1]\n",
    "print(s)"
   ]
  },
  {
   "cell_type": "code",
   "execution_count": null,
   "id": "875b3d7c",
   "metadata": {},
   "outputs": [],
   "source": [
    "def test1(string):\n",
    "    b=0\n",
    "    for i in string:\n",
    "        b+=1\n",
    "    print(b)"
   ]
  },
  {
   "cell_type": "code",
   "execution_count": null,
   "id": "a33c4a89",
   "metadata": {},
   "outputs": [],
   "source": [
    "test1(\"Sudhanshu\")\n"
   ]
  },
  {
   "cell_type": "code",
   "execution_count": null,
   "id": "79bf74f8",
   "metadata": {},
   "outputs": [],
   "source": [
    "email=\"sudhanshubiswal15@gmail.com\"\n",
    "for i in email:\n",
    "    user=email.split(\"@\")\n",
    "    user_name = user[0]\n",
    "print(user_name)"
   ]
  },
  {
   "cell_type": "code",
   "execution_count": null,
   "id": "fa47ec47",
   "metadata": {},
   "outputs": [],
   "source": [
    "\"hello how are you\".count('h')"
   ]
  },
  {
   "cell_type": "code",
   "execution_count": null,
   "id": "e775f713",
   "metadata": {},
   "outputs": [],
   "source": [
    "s = \"hii how are you\"\n",
    "s = s.split(\" \")\n",
    "for i in s:\n",
    "    print(i)"
   ]
  },
  {
   "cell_type": "code",
   "execution_count": null,
   "id": "2bc449bf",
   "metadata": {},
   "outputs": [],
   "source": [
    "w=\"loooooool\"\n",
    "\n",
    "if w[::]==w[::-1]:\n",
    "    print(\"palindrom\")\n",
    "else:\n",
    "    print(\"no\")"
   ]
  },
  {
   "cell_type": "code",
   "execution_count": null,
   "id": "cf4b33cc",
   "metadata": {},
   "outputs": [],
   "source": [
    "s = \"hii how are you\"\n",
    "for i in s:\n",
    "    pass"
   ]
  },
  {
   "cell_type": "code",
   "execution_count": null,
   "id": "f3561380",
   "metadata": {},
   "outputs": [],
   "source": [
    "number = int(input(\"enter a number: \"))\n",
    "digits = \"0123456789\"\n",
    "result = ''\n",
    "while number !=0:\n",
    "    result = digits[number%10]+result\n",
    "    number = number//10\n",
    "print(result)"
   ]
  },
  {
   "cell_type": "code",
   "execution_count": null,
   "id": "6608fbf1",
   "metadata": {},
   "outputs": [],
   "source": [
    "import turtle\n"
   ]
  },
  {
   "cell_type": "code",
   "execution_count": null,
   "id": "0f8c8696",
   "metadata": {},
   "outputs": [],
   "source": [
    "[i for i in range(1,51) if i%5==0]"
   ]
  },
  {
   "cell_type": "code",
   "execution_count": null,
   "id": "3b170daa",
   "metadata": {},
   "outputs": [],
   "source": [
    "l = [\"java\",\"python\",'php','javascript']\n",
    "[i for i in l if i.startswith('p')]"
   ]
  },
  {
   "cell_type": "code",
   "execution_count": null,
   "id": "91e21c10",
   "metadata": {},
   "outputs": [],
   "source": [
    "[[[i*j for i in range(1,4)]] for j in range(1,4)]"
   ]
  },
  {
   "cell_type": "code",
   "execution_count": null,
   "id": "5f1eac30",
   "metadata": {},
   "outputs": [],
   "source": [
    "#cartian product\n",
    "l1 = [1,2,3,4]\n",
    "l2 = [5,6,7,8]\n",
    "\n",
    "[i*j for i in l1 for j in l2]"
   ]
  },
  {
   "cell_type": "code",
   "execution_count": null,
   "id": "f4cf18f9",
   "metadata": {},
   "outputs": [],
   "source": [
    "#index wise traverse\n",
    "l = [1,2,3,4]\n",
    "for i in range(0,len(l)):\n",
    "    print(i)"
   ]
  },
  {
   "cell_type": "code",
   "execution_count": null,
   "id": "cc72e491",
   "metadata": {},
   "outputs": [],
   "source": [
    "#zip\n",
    "l1 = [1,2,3,4]\n",
    "l2 = [-1,-2,-3,-4]\n",
    "list(zip(l1,l2))"
   ]
  },
  {
   "cell_type": "code",
   "execution_count": null,
   "id": "a4d40ca0",
   "metadata": {},
   "outputs": [],
   "source": [
    "[i+j for i,j in zip(l1,l2)]"
   ]
  },
  {
   "cell_type": "code",
   "execution_count": null,
   "id": "28b824e0",
   "metadata": {},
   "outputs": [],
   "source": [
    "t1 = ()"
   ]
  },
  {
   "cell_type": "code",
   "execution_count": null,
   "id": "5c7253d6",
   "metadata": {},
   "outputs": [],
   "source": [
    "print(t1)"
   ]
  },
  {
   "cell_type": "code",
   "execution_count": null,
   "id": "70ce538c",
   "metadata": {},
   "outputs": [],
   "source": [
    "t2 = (2,)"
   ]
  },
  {
   "cell_type": "code",
   "execution_count": null,
   "id": "f5ce3a38",
   "metadata": {},
   "outputs": [],
   "source": [
    "print(t2)"
   ]
  },
  {
   "cell_type": "code",
   "execution_count": null,
   "id": "6fc61e09",
   "metadata": {},
   "outputs": [],
   "source": [
    "#homo\n",
    "t3 = (1,2,3)"
   ]
  },
  {
   "cell_type": "code",
   "execution_count": null,
   "id": "d376ffbc",
   "metadata": {},
   "outputs": [],
   "source": [
    "print(t3)"
   ]
  },
  {
   "cell_type": "code",
   "execution_count": null,
   "id": "7074e361",
   "metadata": {},
   "outputs": [],
   "source": [
    "t4 = (1,2,3.4,4+5j,\"hello\")"
   ]
  },
  {
   "cell_type": "code",
   "execution_count": null,
   "id": "a8ac4d29",
   "metadata": {},
   "outputs": [],
   "source": [
    "print(t4)"
   ]
  },
  {
   "cell_type": "code",
   "execution_count": null,
   "id": "a1185131",
   "metadata": {},
   "outputs": [],
   "source": [
    "t5 = ((1,2,3))\n",
    "print(t5)"
   ]
  },
  {
   "cell_type": "code",
   "execution_count": null,
   "id": "599d9790",
   "metadata": {},
   "outputs": [],
   "source": [
    "t6 = (1,2,[3,4],True)"
   ]
  },
  {
   "cell_type": "code",
   "execution_count": null,
   "id": "459dc404",
   "metadata": {},
   "outputs": [],
   "source": [
    "print(t6)"
   ]
  },
  {
   "cell_type": "code",
   "execution_count": null,
   "id": "371bb332",
   "metadata": {},
   "outputs": [],
   "source": [
    "t7 = tuple(\"hello\")"
   ]
  },
  {
   "cell_type": "code",
   "execution_count": null,
   "id": "e3ccfb67",
   "metadata": {},
   "outputs": [],
   "source": [
    "print(t7)"
   ]
  },
  {
   "cell_type": "code",
   "execution_count": null,
   "id": "4f86443d",
   "metadata": {},
   "outputs": [],
   "source": [
    "#indexing\n",
    "t3[0]\n"
   ]
  },
  {
   "cell_type": "code",
   "execution_count": null,
   "id": "e62f8b58",
   "metadata": {},
   "outputs": [],
   "source": [
    "t6[2][1]"
   ]
  },
  {
   "cell_type": "code",
   "execution_count": null,
   "id": "670b15ec",
   "metadata": {},
   "outputs": [],
   "source": [
    "#slicing\n",
    "t6[1:3]"
   ]
  },
  {
   "cell_type": "code",
   "execution_count": null,
   "id": "d8ea349c",
   "metadata": {},
   "outputs": [],
   "source": [
    "t6[-3:-1]"
   ]
  },
  {
   "cell_type": "code",
   "execution_count": null,
   "id": "dc667a99",
   "metadata": {},
   "outputs": [],
   "source": [
    "#unpacking\n",
    "a,b,c = (1,2,3)\n",
    "print(a)\n",
    "print(b)\n",
    "print(c)"
   ]
  },
  {
   "cell_type": "code",
   "execution_count": null,
   "id": "fced7c75",
   "metadata": {},
   "outputs": [],
   "source": [
    "a= 1\n",
    "b= 2\n",
    "a,b = b,a"
   ]
  },
  {
   "cell_type": "code",
   "execution_count": null,
   "id": "49827754",
   "metadata": {},
   "outputs": [],
   "source": [
    "print(a,b)"
   ]
  },
  {
   "cell_type": "code",
   "execution_count": null,
   "id": "2cee7644",
   "metadata": {},
   "outputs": [],
   "source": [
    "a,b,*args = (1,2,3,4,5,56)"
   ]
  },
  {
   "cell_type": "code",
   "execution_count": null,
   "id": "3784ce14",
   "metadata": {},
   "outputs": [],
   "source": [
    "print(a,b)"
   ]
  },
  {
   "cell_type": "code",
   "execution_count": null,
   "id": "4ffffe9c",
   "metadata": {},
   "outputs": [],
   "source": [
    "a = (1,2,3,4,5)\n",
    "b = (6,7,8,9,0)\n",
    "tuple(zip(a,b))"
   ]
  },
  {
   "cell_type": "code",
   "execution_count": null,
   "id": "c37b003e",
   "metadata": {},
   "outputs": [],
   "source": [
    "s1 = {1,2,3,4,5}\n",
    "s2 = {4,5,6,7,8}\n",
    "s1 | s2 #union"
   ]
  },
  {
   "cell_type": "code",
   "execution_count": null,
   "id": "91b337b3",
   "metadata": {},
   "outputs": [],
   "source": [
    "s1 & s2 #intersection"
   ]
  },
  {
   "cell_type": "code",
   "execution_count": null,
   "id": "65fb94ae",
   "metadata": {},
   "outputs": [],
   "source": [
    "s1 - s2 #difference"
   ]
  },
  {
   "cell_type": "code",
   "execution_count": null,
   "id": "357cc3fe",
   "metadata": {},
   "outputs": [],
   "source": [
    "s1 ^ s2 #symmetric diffrence"
   ]
  },
  {
   "cell_type": "code",
   "execution_count": null,
   "id": "6de1d83e",
   "metadata": {},
   "outputs": [],
   "source": [
    "s = {1,2,3,1,1,4,5,5}\n",
    "len(s)"
   ]
  },
  {
   "cell_type": "code",
   "execution_count": null,
   "id": "bb0ee05e",
   "metadata": {},
   "outputs": [],
   "source": [
    "s.add(9)"
   ]
  },
  {
   "cell_type": "code",
   "execution_count": null,
   "id": "7bf7876d",
   "metadata": {},
   "outputs": [],
   "source": [
    "s"
   ]
  },
  {
   "cell_type": "code",
   "execution_count": null,
   "id": "73c19558",
   "metadata": {},
   "outputs": [],
   "source": []
  },
  {
   "cell_type": "code",
   "execution_count": null,
   "id": "e5b69212",
   "metadata": {},
   "outputs": [],
   "source": [
    "d1 = {}"
   ]
  },
  {
   "cell_type": "code",
   "execution_count": null,
   "id": "d4efa398",
   "metadata": {},
   "outputs": [],
   "source": [
    "d2 = {\"name\":\"sudhanshu\",\"gender\":\"Male\"}"
   ]
  },
  {
   "cell_type": "code",
   "execution_count": null,
   "id": "d28433cc",
   "metadata": {},
   "outputs": [],
   "source": [
    "d2"
   ]
  },
  {
   "cell_type": "code",
   "execution_count": null,
   "id": "c878f635",
   "metadata": {},
   "outputs": [],
   "source": [
    "d3={(1,2,3):1,\"hello\":\"world\"}"
   ]
  },
  {
   "cell_type": "code",
   "execution_count": null,
   "id": "5892095a",
   "metadata": {},
   "outputs": [],
   "source": [
    "s = {\n",
    "    \"name\":\"sudhanshu\",\n",
    "    \"college\":\"gita\",\n",
    "    \"sem\":4,\n",
    "    \"subject\":{\n",
    "        \"dsa\":90,\n",
    "        \"math\":94,\n",
    "        \"Eng\":88\n",
    "    }\n",
    "}"
   ]
  },
  {
   "cell_type": "code",
   "execution_count": null,
   "id": "131befa5",
   "metadata": {},
   "outputs": [],
   "source": [
    "s[\"subject\"]['math']"
   ]
  },
  {
   "cell_type": "code",
   "execution_count": null,
   "id": "cb184dbd",
   "metadata": {},
   "outputs": [],
   "source": [
    "d3 = dict([(\"name\",\"sudhanshu\"),(\"age\",23),(\"gender\",\"male\")])\n",
    "d3"
   ]
  },
  {
   "cell_type": "code",
   "execution_count": null,
   "id": "e7067ac6",
   "metadata": {},
   "outputs": [],
   "source": [
    "s = {\n",
    "    \"name\":\"sudhanshu\",\n",
    "    \"college\":\"gita\",\n",
    "    \"sem\":4,\n",
    "    \"subject\":{\n",
    "        \"dsa\":90,\n",
    "        \"math\":94,\n",
    "        \"Eng\":88\n",
    "    }\n",
    "}\n"
   ]
  },
  {
   "cell_type": "code",
   "execution_count": null,
   "id": "1ff009e7",
   "metadata": {},
   "outputs": [],
   "source": [
    "s.get(\"subject\")"
   ]
  },
  {
   "cell_type": "code",
   "execution_count": null,
   "id": "cf31bccd",
   "metadata": {},
   "outputs": [],
   "source": [
    "s.pop(\"college\")"
   ]
  },
  {
   "cell_type": "code",
   "execution_count": null,
   "id": "4b8ad8e3",
   "metadata": {},
   "outputs": [],
   "source": [
    "s"
   ]
  },
  {
   "cell_type": "code",
   "execution_count": null,
   "id": "db17ab72",
   "metadata": {},
   "outputs": [],
   "source": [
    "s.popitem()"
   ]
  },
  {
   "cell_type": "code",
   "execution_count": null,
   "id": "5dea252b",
   "metadata": {},
   "outputs": [],
   "source": [
    "distances = {\"delhi\":1000,\"mumbai\":880,\"Kolkata\":400}\n",
    "{i:j*0.62 for (i,j) in distances.items()}"
   ]
  },
  {
   "cell_type": "code",
   "execution_count": null,
   "id": "7d4065a6",
   "metadata": {},
   "outputs": [],
   "source": [
    "products = {\"phone\":10,\"Laptop\":0,\"charger\":32,\"tablet\":0}\n",
    "{i:j for (i,j) in products.items() if j>0}"
   ]
  },
  {
   "cell_type": "code",
   "execution_count": null,
   "id": "f4e5ae7e",
   "metadata": {},
   "outputs": [],
   "source": [
    "days = [\"sunday\",\"monday\",\"tuesday\",\"wednesday\",\"thursday\",\"friday\",\"saturday\"]\n",
    "temp = [29,30,26,27,31,23,22]\n",
    "{i:j for (i,j) in zip(days,temp)}"
   ]
  },
  {
   "cell_type": "code",
   "execution_count": null,
   "id": "123dcec1",
   "metadata": {},
   "outputs": [],
   "source": [
    "#nested comprehension\n",
    "{i:{j:j*i for j in range(1,11)} for i in range(2,5)}"
   ]
  },
  {
   "cell_type": "code",
   "execution_count": null,
   "id": "9d6ae026",
   "metadata": {},
   "outputs": [],
   "source": [
    "{i:{j:j*i for j in range(1,11)}for i in range(2,5)}"
   ]
  },
  {
   "cell_type": "markdown",
   "id": "b94a9084",
   "metadata": {},
   "source": [
    "# Functions"
   ]
  },
  {
   "cell_type": "code",
   "execution_count": null,
   "id": "54532061",
   "metadata": {},
   "outputs": [],
   "source": [
    "def is_even(num):\n",
    "    \"\"\"This function will use to find the given number is odd or even\n",
    "    input- an valid number\n",
    "    output-odd/even\n",
    "    created on- 6th dec 2022\n",
    "    \"\"\"\n",
    "    if num%2==0:\n",
    "        return \"even\"\n",
    "    else:\n",
    "        return \"odd\"\n",
    "\n",
    "    "
   ]
  },
  {
   "cell_type": "code",
   "execution_count": null,
   "id": "ddad3e55",
   "metadata": {},
   "outputs": [],
   "source": [
    "is_even(3)"
   ]
  },
  {
   "cell_type": "code",
   "execution_count": null,
   "id": "0f2ef6b9",
   "metadata": {},
   "outputs": [],
   "source": [
    "for i in range(1,11):\n",
    "    x=is_even(i)\n",
    "    print(i,x)"
   ]
  },
  {
   "cell_type": "code",
   "execution_count": null,
   "id": "580cf7a1",
   "metadata": {},
   "outputs": [],
   "source": [
    "print(is_even.__doc__)"
   ]
  },
  {
   "cell_type": "code",
   "execution_count": 1,
   "id": "a7212df1",
   "metadata": {},
   "outputs": [],
   "source": [
    "def display(**kawrgs):\n",
    "    for (key,value) in kawrgs.items():\n",
    "        print(key,'->',value)"
   ]
  },
  {
   "cell_type": "code",
   "execution_count": 2,
   "id": "3eb97d73",
   "metadata": {},
   "outputs": [
    {
     "name": "stdout",
     "output_type": "stream",
     "text": [
      "india -> delhi\n",
      "usa -> Washington dc\n",
      "uk -> england\n"
     ]
    }
   ],
   "source": [
    "display(india=\"delhi\",usa=\"Washington dc\",uk=\"england\")"
   ]
  },
  {
   "cell_type": "code",
   "execution_count": null,
   "id": "b9185a92",
   "metadata": {},
   "outputs": [],
   "source": [
    "def f():\n",
    "    def g():\n",
    "        print(\"I'm inside g\")\n",
    "    g()\n",
    "    print(\"I'm inside f\")\n",
    "f()"
   ]
  },
  {
   "cell_type": "code",
   "execution_count": 3,
   "id": "fc89cab9",
   "metadata": {},
   "outputs": [
    {
     "name": "stdout",
     "output_type": "stream",
     "text": [
      "in g(x):x= 4\n"
     ]
    }
   ],
   "source": [
    "def g(x):\n",
    "    def h():\n",
    "        x='abc'\n",
    "    x=x+1\n",
    "    print('in g(x):x=',x)\n",
    "    h()\n",
    "    return x\n",
    "x=3\n",
    "z=g(x)"
   ]
  },
  {
   "cell_type": "code",
   "execution_count": null,
   "id": "e226f16a",
   "metadata": {},
   "outputs": [],
   "source": [
    "def g(x):\n",
    "    def h(x):\n",
    "        x=x+1\n",
    "        print('in h(x): x= ',x)\n",
    "    x=x+1\n",
    "    print('in g(x):x=',x)\n",
    "    h(x)\n",
    "    return x\n",
    "x=3\n",
    "z=g(x)"
   ]
  },
  {
   "cell_type": "code",
   "execution_count": null,
   "id": "94317c19",
   "metadata": {},
   "outputs": [],
   "source": [
    "def func_a():\n",
    "    print(\"inside func_a\")\n",
    "def func_b(z):\n",
    "    print(\"inside func_b\")\n",
    "    return z()\n",
    "print(func_b(func_a))"
   ]
  },
  {
   "cell_type": "code",
   "execution_count": null,
   "id": "633f5526",
   "metadata": {},
   "outputs": [],
   "source": [
    "a = lambda a:a**2"
   ]
  },
  {
   "cell_type": "code",
   "execution_count": null,
   "id": "29e305f4",
   "metadata": {},
   "outputs": [],
   "source": [
    "a(2)"
   ]
  },
  {
   "cell_type": "code",
   "execution_count": null,
   "id": "beb6058e",
   "metadata": {},
   "outputs": [],
   "source": [
    "a = lambda s: 'a' in s\n",
    "a('hello')"
   ]
  },
  {
   "cell_type": "code",
   "execution_count": null,
   "id": "1c3f9a3c",
   "metadata": {},
   "outputs": [],
   "source": [
    "a = lambda a: 'even' if a%2==0 else 'odd'"
   ]
  },
  {
   "cell_type": "code",
   "execution_count": null,
   "id": "58419075",
   "metadata": {},
   "outputs": [],
   "source": [
    "a(4)"
   ]
  },
  {
   "cell_type": "code",
   "execution_count": null,
   "id": "560f6513",
   "metadata": {},
   "outputs": [],
   "source": [
    "a(3)"
   ]
  },
  {
   "cell_type": "markdown",
   "id": "1ce8b7fb",
   "metadata": {},
   "source": [
    "# Higher order function "
   ]
  },
  {
   "cell_type": "code",
   "execution_count": null,
   "id": "e7608381",
   "metadata": {},
   "outputs": [],
   "source": [
    "#a function which return a function or function takes input as a function\n",
    "\n",
    "#example\n",
    "\n",
    "def square(x):\n",
    "    return x**2\n",
    "def transform(f,l):\n",
    "    output = []\n",
    "    for i in l:\n",
    "        output.append(f(i))\n",
    "    print(output)\n",
    "l=[1,2,3,4,5,6,7]\n"
   ]
  },
  {
   "cell_type": "code",
   "execution_count": null,
   "id": "f26caff1",
   "metadata": {},
   "outputs": [],
   "source": [
    "transform(square,l)"
   ]
  },
  {
   "cell_type": "code",
   "execution_count": null,
   "id": "c76010d7",
   "metadata": {},
   "outputs": [],
   "source": [
    "del square"
   ]
  },
  {
   "cell_type": "code",
   "execution_count": null,
   "id": "5d7ee364",
   "metadata": {},
   "outputs": [],
   "source": [
    "def square(x):\n",
    "    return x**2\n",
    "def transform(f,l):\n",
    "    output = []\n",
    "    for i in l:\n",
    "        output.append(f(i))\n",
    "    print(output)\n",
    "l=[1,2,3,4,5,6,7]\n"
   ]
  },
  {
   "cell_type": "code",
   "execution_count": null,
   "id": "a0db218e",
   "metadata": {},
   "outputs": [],
   "source": [
    "transform(square,l)"
   ]
  },
  {
   "cell_type": "code",
   "execution_count": null,
   "id": "c1d687c2",
   "metadata": {},
   "outputs": [],
   "source": [
    "list(map(lambda a:a**2,[2,3,4]))"
   ]
  },
  {
   "cell_type": "code",
   "execution_count": null,
   "id": "98f9b47a",
   "metadata": {},
   "outputs": [],
   "source": [
    "list(map(lambda x:'even' if x%2==0 else 'odd',[1,2,3,4]))"
   ]
  },
  {
   "cell_type": "markdown",
   "id": "af418b8b",
   "metadata": {},
   "source": [
    "# OOPS"
   ]
  },
  {
   "cell_type": "code",
   "execution_count": null,
   "id": "c817fa2a",
   "metadata": {},
   "outputs": [],
   "source": [
    "#class is blueprint\n"
   ]
  },
  {
   "cell_type": "code",
   "execution_count": null,
   "id": "03977e57",
   "metadata": {},
   "outputs": [],
   "source": [
    "L = [1,2,3] #L is object and []is class\n",
    "print(type(L))"
   ]
  },
  {
   "cell_type": "code",
   "execution_count": null,
   "id": "ea32fef7",
   "metadata": {},
   "outputs": [],
   "source": [
    "L.upper()"
   ]
  },
  {
   "cell_type": "code",
   "execution_count": null,
   "id": "095a9183",
   "metadata": {},
   "outputs": [],
   "source": [
    "#pascal case\n",
    "#HelloWorld"
   ]
  },
  {
   "cell_type": "markdown",
   "id": "dc40d149",
   "metadata": {},
   "source": [
    "ATM Machine code"
   ]
  },
  {
   "cell_type": "code",
   "execution_count": 1,
   "id": "bd157dca",
   "metadata": {},
   "outputs": [],
   "source": [
    "class Atm:\n",
    "    #costructor(Special function-- we don't have to call it explecitily for execution)\n",
    "    def __init__(self):\n",
    "        self.pin = ''\n",
    "        self.balance = 0\n",
    "        self.menu()\n",
    "        \n",
    "    def menu(self):\n",
    "        user_input = input(\"\"\"\n",
    "        Hi how can i help you?\n",
    "        1. Press 1 to create pin\n",
    "        2. Press 2 to change pin\n",
    "        3. Press 3 to check balance\n",
    "        4. Press 4 to withdraw\n",
    "        5. Anything else to exit\n",
    "        \"\"\")\n",
    "        \n",
    "        if user_input=='1':\n",
    "            #create pin\n",
    "            self.cretae_pin()\n",
    "        elif user_input=='2':\n",
    "            #change pin\n",
    "            self.change_pin()\n",
    "        elif user_input=='3':\n",
    "            #check balace\n",
    "            self.check_balance()\n",
    "        elif user_input=='4':\n",
    "            #withdraw\n",
    "            self.withdraw()\n",
    "        else:\n",
    "            exit()\n",
    "    def cretae_pin(self):\n",
    "        user_pin = input(\"enter your pin\")\n",
    "        self.pin = user_pin\n",
    "        user_balance = int(input('enter balance'))\n",
    "        self.balance = user_balance\n",
    "        print(\"pin created successfully\")\n",
    "        self.menu()\n",
    "    def change_pin(self):\n",
    "        current_pin = input('enter your current pin')\n",
    "        if current_pin==self.pin:\n",
    "            #let him chnage the pin\n",
    "            new_pin = input(\"enter new pin\")\n",
    "            self.pin = new_pin\n",
    "            print(\"pin created successfully\")\n",
    "            self.menu()\n",
    "        else:\n",
    "            print(\"You can't change the pin\")\n",
    "            self.menu()\n",
    "    def check_balance(self):\n",
    "        user_pin = input(\"enter your pin\")\n",
    "        if user_pin==self.pin:\n",
    "            print(\"Your balance is\", self.balance)\n",
    "        else:\n",
    "            print(\"Can't tell you the balance\")\n",
    "            self.menu()\n",
    "            \n",
    "    def withdraw(self):\n",
    "        user_pin = input(\"enter your pin\")\n",
    "        if user_pin==self.pin:\n",
    "            #allow to withdraw\n",
    "            amount = int(input('enter the amount'))\n",
    "            if amount <= self.balance:\n",
    "                self.balance = self.balance-amount\n",
    "                print(\"withdrawal successful. balance is\",self.balance)\n",
    "                self.menu()\n",
    "            else:\n",
    "                print(\"You don't have sufficient money\")\n",
    "        else:\n",
    "            (\"your password is incorrect\")\n",
    "        self.menu()\n",
    "            \n",
    "            "
   ]
  },
  {
   "cell_type": "code",
   "execution_count": 2,
   "id": "8c4b1d09",
   "metadata": {},
   "outputs": [
    {
     "name": "stdout",
     "output_type": "stream",
     "text": [
      "\n",
      "        Hi how can i help you?\n",
      "        1. Press 1 to create pin\n",
      "        2. Press 2 to change pin\n",
      "        3. Press 3 to check balance\n",
      "        4. Press 4 to withdraw\n",
      "        5. Anything else to exit\n",
      "        1\n",
      "enter your pin1234\n",
      "enter balance10000\n",
      "pin created successfully\n",
      "\n",
      "        Hi how can i help you?\n",
      "        1. Press 1 to create pin\n",
      "        2. Press 2 to change pin\n",
      "        3. Press 3 to check balance\n",
      "        4. Press 4 to withdraw\n",
      "        5. Anything else to exit\n",
      "        4\n",
      "enter your pin1234\n",
      "enter the amount5000\n",
      "withdrawal successful. balance is 5000\n",
      "\n",
      "        Hi how can i help you?\n",
      "        1. Press 1 to create pin\n",
      "        2. Press 2 to change pin\n",
      "        3. Press 3 to check balance\n",
      "        4. Press 4 to withdraw\n",
      "        5. Anything else to exit\n",
      "        5\n",
      "\n",
      "        Hi how can i help you?\n",
      "        1. Press 1 to create pin\n",
      "        2. Press 2 to change pin\n",
      "        3. Press 3 to check balance\n",
      "        4. Press 4 to withdraw\n",
      "        5. Anything else to exit\n",
      "        8\n"
     ]
    }
   ],
   "source": [
    "obj = Atm()"
   ]
  },
  {
   "cell_type": "code",
   "execution_count": null,
   "id": "c221ca6b",
   "metadata": {},
   "outputs": [],
   "source": [
    "print(type(obj))"
   ]
  },
  {
   "cell_type": "code",
   "execution_count": 1,
   "id": "3e1f739a",
   "metadata": {},
   "outputs": [],
   "source": [
    "l = [1,2,3]\n",
    "len(l) #function -> because it is outside the list class\n",
    "l.append(4) #method -> because it is inside the list class\n"
   ]
  },
  {
   "cell_type": "markdown",
   "id": "2cd55dca",
   "metadata": {},
   "source": [
    "Magic Method aka Dunder Method"
   ]
  },
  {
   "cell_type": "code",
   "execution_count": 2,
   "id": "269c543c",
   "metadata": {},
   "outputs": [],
   "source": [
    "#constructor is a magic method\n",
    "#The self parameter is a reference to the current instance of the class, and is used to access variables that belongs to the class."
   ]
  },
  {
   "cell_type": "code",
   "execution_count": 14,
   "id": "069f7161",
   "metadata": {},
   "outputs": [],
   "source": [
    "class Fraction:\n",
    "    #parameterised constructor\n",
    "    def __init__(self,x,y):\n",
    "        self.num=x\n",
    "        self.den=y\n",
    "    def __str__(self): #magic method used to how we will showcase our object\n",
    "        return (f\"{self.num}/{self.den}\")\n",
    "    \n",
    "    def __add__(self,other): #magic method\n",
    "        new_num = self.num*other.den + self.den*other.num\n",
    "        new_den = self.den*other.den\n",
    "        return (f\"{new_num}/{new_den}\")\n",
    "    \n",
    "    def __sub__(self,other): #magic method\n",
    "        new_num = self.num*other.den - self.den*other.num\n",
    "        new_den = self.den*other.den\n",
    "        return (f\"{new_num}/{new_den}\")\n",
    "    \n",
    "    def __mul__(self,other): #magic method\n",
    "        new_num = self.num*other.num\n",
    "        new_den = self.den*other.den\n",
    "        return (f\"{new_num}/{new_den}\")\n",
    "    \n",
    "    def __truediv__(self,other): #magic method\n",
    "        new_num = self.num*other.den\n",
    "        new_den = self.den*other.num\n",
    "        return (f\"{new_num}/{new_den}\")\n",
    "    \n",
    "    def convert_to_decimal(self):\n",
    "        return self.num/self.den\n",
    "        \n",
    "    "
   ]
  },
  {
   "cell_type": "code",
   "execution_count": 15,
   "id": "b4231952",
   "metadata": {},
   "outputs": [],
   "source": [
    "fr1 = Fraction(3,4)\n",
    "fr2 = Fraction(1,2)"
   ]
  },
  {
   "cell_type": "code",
   "execution_count": 12,
   "id": "4291c344",
   "metadata": {},
   "outputs": [
    {
     "name": "stdout",
     "output_type": "stream",
     "text": [
      "3/4\n",
      "1/2\n"
     ]
    }
   ],
   "source": [
    "print(fr1)\n",
    "print(fr2)"
   ]
  },
  {
   "cell_type": "code",
   "execution_count": 16,
   "id": "cbc87018",
   "metadata": {},
   "outputs": [
    {
     "name": "stdout",
     "output_type": "stream",
     "text": [
      "10/8\n",
      "2/8\n",
      "3/8\n",
      "6/4\n"
     ]
    }
   ],
   "source": [
    "print(fr1+fr2)\n",
    "print(fr1-fr2)\n",
    "print(fr1*fr2)\n",
    "print(fr1/fr2)"
   ]
  },
  {
   "cell_type": "code",
   "execution_count": 17,
   "id": "a2c13d25",
   "metadata": {},
   "outputs": [
    {
     "data": {
      "text/plain": [
       "0.75"
      ]
     },
     "execution_count": 17,
     "metadata": {},
     "output_type": "execute_result"
    }
   ],
   "source": [
    "fr1.convert_to_decimal()"
   ]
  },
  {
   "cell_type": "markdown",
   "id": "f1d16c72",
   "metadata": {},
   "source": [
    "# OOP Example"
   ]
  },
  {
   "cell_type": "code",
   "execution_count": 34,
   "id": "d3c5ea80",
   "metadata": {},
   "outputs": [],
   "source": [
    "class Point:\n",
    "    \n",
    "    def __init__(self,x,y):\n",
    "        self.x_cod = x\n",
    "        self.y_cod = y\n",
    "        \n",
    "    def __str__(self):\n",
    "        return (f\"<{self.x_cod},{self.y_cod}>\")\n",
    "    \n",
    "    def euclidean_distance(self,other):\n",
    "        return ((self.x_cod-other.x_cod)**2 + (self.y_cod-other.y_cod)**2)**0.5\n",
    "    \n",
    "    def distance_from_origin(self):\n",
    "        return self.euclidean_distance(Point(0,0))\n",
    "class Line:\n",
    "    def __init__(self,A,B,C):\n",
    "        self.A = A\n",
    "        self.B = B\n",
    "        self.C = C\n",
    "    \n",
    "    def __str__(self):\n",
    "        return (f\"{self.A}x+{self.B}y+{self.C}=0\")\n",
    "    \n",
    "    def point_on_line (line,point):\n",
    "        if line.A*Point.x_cod + Line.B*Point.y_cod + C ==0:\n",
    "            return \"lies on the line\"\n",
    "        else:\n",
    "            return \"does not lie on line\"\n",
    "    \n",
    "    def shortest_distance(line,point):\n",
    "        return abs(line.A*point.x_cod  + line.B*point.y_cod + line.C)/(line.A**2 + line.B**2)**0.5\n",
    "    "
   ]
  },
  {
   "cell_type": "code",
   "execution_count": 27,
   "id": "666b7878",
   "metadata": {},
   "outputs": [],
   "source": [
    "p1 = Point(0,0)\n",
    "p2 = Point(10,10)"
   ]
  },
  {
   "cell_type": "code",
   "execution_count": 28,
   "id": "b403749b",
   "metadata": {},
   "outputs": [
    {
     "data": {
      "text/plain": [
       "14.142135623730951"
      ]
     },
     "execution_count": 28,
     "metadata": {},
     "output_type": "execute_result"
    }
   ],
   "source": [
    "p1.euclidean_distance(p2)"
   ]
  },
  {
   "cell_type": "code",
   "execution_count": 30,
   "id": "315ffaef",
   "metadata": {},
   "outputs": [
    {
     "data": {
      "text/plain": [
       "0.0"
      ]
     },
     "execution_count": 30,
     "metadata": {},
     "output_type": "execute_result"
    }
   ],
   "source": [
    "p1.distance_from_origin()"
   ]
  },
  {
   "cell_type": "code",
   "execution_count": 32,
   "id": "70ced08f",
   "metadata": {},
   "outputs": [],
   "source": [
    "l1 = Line(2,3,4)"
   ]
  },
  {
   "cell_type": "code",
   "execution_count": 33,
   "id": "0af8f70a",
   "metadata": {},
   "outputs": [
    {
     "name": "stdout",
     "output_type": "stream",
     "text": [
      "2x+3y+4=0\n"
     ]
    }
   ],
   "source": [
    "print(l1)"
   ]
  },
  {
   "cell_type": "code",
   "execution_count": 36,
   "id": "94519629",
   "metadata": {},
   "outputs": [
    {
     "name": "stdout",
     "output_type": "stream",
     "text": [
      "1x+1y+-2=0\n",
      "<1,1>\n"
     ]
    },
    {
     "data": {
      "text/plain": [
       "0.0"
      ]
     },
     "execution_count": 36,
     "metadata": {},
     "output_type": "execute_result"
    }
   ],
   "source": [
    "l1= Line(1,1,-2)\n",
    "p1 = Point(1,1)\n",
    "print(l1)\n",
    "print(p1)\n",
    "l1.shortest_distance(p1)"
   ]
  },
  {
   "cell_type": "markdown",
   "id": "bad02e17",
   "metadata": {},
   "source": [
    "# Reference Variable"
   ]
  },
  {
   "cell_type": "code",
   "execution_count": 39,
   "id": "a1994361",
   "metadata": {},
   "outputs": [],
   "source": [
    "class Person:\n",
    "    def __init__(self):\n",
    "        self.name = \"Sudhanshu\"\n",
    "        self.gender = \"male\"\n",
    "p = Person()\n",
    "q=p #alising"
   ]
  },
  {
   "cell_type": "code",
   "execution_count": 41,
   "id": "a15c5ab6",
   "metadata": {},
   "outputs": [
    {
     "ename": "AttributeError",
     "evalue": "'Person' object has no attribute 'country'",
     "output_type": "error",
     "traceback": [
      "\u001b[0;31m---------------------------------------------------------------------------\u001b[0m",
      "\u001b[0;31mAttributeError\u001b[0m                            Traceback (most recent call last)",
      "Input \u001b[0;32mIn [41]\u001b[0m, in \u001b[0;36m<cell line: 1>\u001b[0;34m()\u001b[0m\n\u001b[0;32m----> 1\u001b[0m \u001b[43mp\u001b[49m\u001b[38;5;241;43m.\u001b[39;49m\u001b[43mcountry\u001b[49m\n",
      "\u001b[0;31mAttributeError\u001b[0m: 'Person' object has no attribute 'country'"
     ]
    }
   ],
   "source": [
    "p.country"
   ]
  },
  {
   "cell_type": "code",
   "execution_count": 42,
   "id": "738029b6",
   "metadata": {},
   "outputs": [],
   "source": [
    "#attribute creation from outside of the class\n",
    "p.country = \"India\" "
   ]
  },
  {
   "cell_type": "code",
   "execution_count": 43,
   "id": "6aee494d",
   "metadata": {},
   "outputs": [
    {
     "data": {
      "text/plain": [
       "'India'"
      ]
     },
     "execution_count": 43,
     "metadata": {},
     "output_type": "execute_result"
    }
   ],
   "source": [
    "p.country"
   ]
  },
  {
   "cell_type": "code",
   "execution_count": 44,
   "id": "a779453a",
   "metadata": {},
   "outputs": [
    {
     "name": "stdout",
     "output_type": "stream",
     "text": [
      "Sudhanshu\n",
      "Sudhanshu\n",
      "Priyanshu\n",
      "Priyanshu\n"
     ]
    }
   ],
   "source": [
    "#cahange attribute value with the help of 2nd object\n",
    "\n",
    "print(p.name)\n",
    "print(q.name)\n",
    "q.name= \"Priyanshu\"\n",
    "print(q.name)\n",
    "print(p.name)\n",
    "\n"
   ]
  },
  {
   "cell_type": "markdown",
   "id": "7abf9ca4",
   "metadata": {},
   "source": [
    "# Pass By Reference"
   ]
  },
  {
   "cell_type": "code",
   "execution_count": 47,
   "id": "3de28c21",
   "metadata": {},
   "outputs": [
    {
     "name": "stdout",
     "output_type": "stream",
     "text": [
      "Hi my name is  Sudhanshu and I am a  male\n",
      "Sudhanshu\n",
      "male\n"
     ]
    }
   ],
   "source": [
    "class Person:\n",
    "    def __init__(self,name,gender):\n",
    "        self.name = \"Sudhanshu\"\n",
    "        self.gender = \"male\"\n",
    "\n",
    "#outside the class -> function\n",
    "def greet(person): #pass an object as input to a function\n",
    "    print(\"Hi my name is \",person.name, \"and I am a \",person.gender)\n",
    "    p1 = Person(\"Sudhanshu\",\"male\")\n",
    "    return p1\n",
    "p = Person(\"Sudhanshu\",\"male\")    \n",
    "x=greet(p) \n",
    "print(x.name)\n",
    "print(x.gender)\n",
    "\n",
    "\n"
   ]
  },
  {
   "cell_type": "code",
   "execution_count": 50,
   "id": "4c9acb34",
   "metadata": {},
   "outputs": [
    {
     "name": "stdout",
     "output_type": "stream",
     "text": [
      "140520895197040\n",
      "140520895197040\n",
      "Hi my name is  Sudhanshu and I am a  male\n",
      "priyanshu\n",
      "priyanshu\n"
     ]
    }
   ],
   "source": [
    "class Person:\n",
    "    def __init__(self,name,gender):\n",
    "        self.name = \"Sudhanshu\"\n",
    "        self.gender = \"male\"\n",
    "\n",
    "#outside the class -> function\n",
    "def greet(person): #pass an object as input to a function\n",
    "    print(id(person))\n",
    "    print(\"Hi my name is \",person.name, \"and I am a \",person.gender)\n",
    "    person.name = \"priyanshu\"\n",
    "    print(person.name)\n",
    "p = Person(\"Sudhanshu\",\"male\")    \n",
    "print(id(p))\n",
    "greet(p) \n",
    "print(p.name)\n"
   ]
  },
  {
   "cell_type": "markdown",
   "id": "366a8655",
   "metadata": {},
   "source": [
    "# Mutability of objects"
   ]
  },
  {
   "cell_type": "code",
   "execution_count": 51,
   "id": "19f03fc9",
   "metadata": {},
   "outputs": [
    {
     "name": "stdout",
     "output_type": "stream",
     "text": [
      "140520897787744\n",
      "priyanshu\n",
      "140520897787744\n"
     ]
    }
   ],
   "source": [
    "#by default objects are mutable\n",
    "class Person:\n",
    "    def __init__(self,name,gender):\n",
    "        self.name = name\n",
    "        self.gender = gender\n",
    "\n",
    "#outside the class -> function\n",
    "def greet(person): #pass an object as input to a function\n",
    "    person.name = \"priyanshu\"\n",
    "    print(person.name)\n",
    "    return person\n",
    "p = Person(\"Sudhanshu\",\"male\")    \n",
    "print(id(p))\n",
    "p1 = greet(p) \n",
    "print(id(p1))\n"
   ]
  },
  {
   "cell_type": "markdown",
   "id": "d2edea7d",
   "metadata": {},
   "source": [
    "# encapsulation"
   ]
  },
  {
   "cell_type": "code",
   "execution_count": 52,
   "id": "0c1885ee",
   "metadata": {},
   "outputs": [],
   "source": [
    "# instance variable -> the value of varibale depend upon object\n",
    "class Person:\n",
    "    def __init__(self,name_input,country_input):\n",
    "        self.name = name_input\n",
    "        self.gender = country_input\n",
    "p1 = Person(\"sudhanhsu\",\"India\")\n",
    "p2  = Person(\"Steve\",\"USA\")\n"
   ]
  },
  {
   "cell_type": "code",
   "execution_count": 53,
   "id": "0628cdf8",
   "metadata": {},
   "outputs": [
    {
     "data": {
      "text/plain": [
       "'sudhanhsu'"
      ]
     },
     "execution_count": 53,
     "metadata": {},
     "output_type": "execute_result"
    }
   ],
   "source": [
    "p1.name"
   ]
  },
  {
   "cell_type": "code",
   "execution_count": 55,
   "id": "05dddc94",
   "metadata": {},
   "outputs": [
    {
     "data": {
      "text/plain": [
       "'Steve'"
      ]
     },
     "execution_count": 55,
     "metadata": {},
     "output_type": "execute_result"
    }
   ],
   "source": [
    "p2.name"
   ]
  },
  {
   "cell_type": "code",
   "execution_count": 1,
   "id": "4a3f367e",
   "metadata": {},
   "outputs": [],
   "source": [
    "class Atm:\n",
    "    #costructor(Special function-- we don't have to call it explecitily for execution)\n",
    "    def __init__(self):\n",
    "        self.pin = ''\n",
    "        self.__balance = 0\n",
    "        self.menu()\n",
    "        \n",
    "    def get_balance(self):\n",
    "        return self.__balance\n",
    "    \n",
    "    def set_balance(self,new_value):\n",
    "        if type(new_value)==int:\n",
    "            return self.__balance\n",
    "        else:\n",
    "            (\"This can't be possible\")\n",
    "        \n",
    "        \n",
    "    def menu(self):\n",
    "        user_input = input(\"\"\"\n",
    "        Hi how can i help you?\n",
    "        1. Press 1 to create pin\n",
    "        2. Press 2 to change pin\n",
    "        3. Press 3 to check balance\n",
    "        4. Press 4 to withdraw\n",
    "        5. Anything else to exit\n",
    "        \"\"\")\n",
    "        \n",
    "        if user_input=='1':\n",
    "            #create pin\n",
    "            self.cretae_pin()\n",
    "        elif user_input=='2':\n",
    "            #change pin\n",
    "            self.change_pin()\n",
    "        elif user_input=='3':\n",
    "            #check balace\n",
    "            self.check_balance()\n",
    "        elif user_input=='4':\n",
    "            #withdraw\n",
    "            self.withdraw()\n",
    "        else:\n",
    "            exit()\n",
    "    def cretae_pin(self):\n",
    "        user_pin = input(\"enter your pin\")\n",
    "        self.pin = user_pin\n",
    "        user_balance = int(input('enter balance'))\n",
    "        self.__balance = user_balance\n",
    "        print(\"pin created successfully\")\n",
    "        self.menu()\n",
    "    def change_pin(self):\n",
    "        current_pin = input('enter your current pin')\n",
    "        if current_pin==self.pin:\n",
    "            #let him chnage the pin\n",
    "            new_pin = input(\"enter new pin\")\n",
    "            self.pin = new_pin\n",
    "            print(\"pin created successfully\")\n",
    "            self.menu()\n",
    "        else:\n",
    "            print(\"You can't change the pin\")\n",
    "            self.menu()\n",
    "    def check_balance(self):\n",
    "        user_pin = input(\"enter your pin\")\n",
    "        if user_pin==self.pin:\n",
    "            print(\"Your balance is\", self.__balance)\n",
    "        else:\n",
    "            print(\"Can't tell you the balance\")\n",
    "            self.menu()\n",
    "            \n",
    "    def withdraw(self):\n",
    "        user_pin = input(\"enter your pin\")\n",
    "        if user_pin==self.pin:\n",
    "            #allow to withdraw\n",
    "            amount = int(input('enter the amount'))\n",
    "            if amount <= self.__balance:\n",
    "                self.balance = self.__balance-amount\n",
    "                print(\"withdrawal successful. balance is\",self.__balance)\n",
    "                self.menu()\n",
    "            else:\n",
    "                print(\"You don't have sufficient money\")\n",
    "        else:\n",
    "            (\"your password is incorrect\")\n",
    "        self.menu()\n",
    "            \n",
    "            "
   ]
  },
  {
   "cell_type": "code",
   "execution_count": 2,
   "id": "0857b4d6",
   "metadata": {
    "scrolled": true
   },
   "outputs": [
    {
     "name": "stdout",
     "output_type": "stream",
     "text": [
      "\n",
      "        Hi how can i help you?\n",
      "        1. Press 1 to create pin\n",
      "        2. Press 2 to change pin\n",
      "        3. Press 3 to check balance\n",
      "        4. Press 4 to withdraw\n",
      "        5. Anything else to exit\n",
      "        0\n"
     ]
    }
   ],
   "source": [
    "a = Atm()\n"
   ]
  },
  {
   "cell_type": "code",
   "execution_count": 3,
   "id": "4bc4bc9e",
   "metadata": {},
   "outputs": [
    {
     "ename": "NameError",
     "evalue": "name 'a' is not defined",
     "output_type": "error",
     "traceback": [
      "\u001b[0;31m---------------------------------------------------------------------------\u001b[0m",
      "\u001b[0;31mNameError\u001b[0m                                 Traceback (most recent call last)",
      "Input \u001b[0;32mIn [3]\u001b[0m, in \u001b[0;36m<cell line: 1>\u001b[0;34m()\u001b[0m\n\u001b[0;32m----> 1\u001b[0m \u001b[43ma\u001b[49m\u001b[38;5;241m.\u001b[39m__balance \u001b[38;5;241m=\u001b[39m \u001b[38;5;124m\"\u001b[39m\u001b[38;5;124mhehehe\u001b[39m\u001b[38;5;124m\"\u001b[39m\n",
      "\u001b[0;31mNameError\u001b[0m: name 'a' is not defined"
     ]
    }
   ],
   "source": [
    "a.__balance = \"hehehe\""
   ]
  },
  {
   "cell_type": "code",
   "execution_count": 2,
   "id": "8e9294db",
   "metadata": {},
   "outputs": [],
   "source": [
    "#to make attributes private use __ before variable name\n",
    "#encapsulation use to hide or protect the attribute from outer world and it could be accessed by getter and setter method\n",
    "\n"
   ]
  },
  {
   "cell_type": "markdown",
   "id": "9d888a22",
   "metadata": {},
   "source": [
    "# Collection of objects"
   ]
  },
  {
   "cell_type": "code",
   "execution_count": 3,
   "id": "924aeb65",
   "metadata": {},
   "outputs": [],
   "source": [
    "#lists of objects\n",
    "class Person:\n",
    "    def __init__(self,name,gender):\n",
    "        self.name = name\n",
    "        self.gender = gender\n",
    "    \n",
    "    def __str__(self):\n",
    "        return (f\"{self.name},{self.gender}\")\n",
    "        \n",
    "p1 = Person(\"sudhanshu\",\"male\")\n",
    "p2 = Person(\"Priyanshu\",\"male\")\n",
    "p3 = Person(\"Mahi\",\"female\")\n",
    "\n",
    "\n"
   ]
  },
  {
   "cell_type": "code",
   "execution_count": 4,
   "id": "c4273186",
   "metadata": {},
   "outputs": [
    {
     "name": "stdout",
     "output_type": "stream",
     "text": [
      "[<__main__.Person object at 0x7fc29202d040>, <__main__.Person object at 0x7fc29202d7f0>, <__main__.Person object at 0x7fc29202d670>]\n"
     ]
    }
   ],
   "source": [
    "L = [p1,p2,p3]\n",
    "print(L)"
   ]
  },
  {
   "cell_type": "code",
   "execution_count": 5,
   "id": "2dbdc875",
   "metadata": {},
   "outputs": [
    {
     "name": "stdout",
     "output_type": "stream",
     "text": [
      "sudhanshu male\n",
      "Priyanshu male\n",
      "Mahi female\n"
     ]
    }
   ],
   "source": [
    "for i in L:\n",
    "    print(i.name,i.gender)"
   ]
  },
  {
   "cell_type": "markdown",
   "id": "772eb4f4",
   "metadata": {},
   "source": [
    "# static varibale vs Instance Varibale"
   ]
  },
  {
   "cell_type": "code",
   "execution_count": 15,
   "id": "3f39b151",
   "metadata": {},
   "outputs": [],
   "source": [
    "# instance variable -> The value is different for each object\n",
    "# static variable -> The value is same for a class,so each object have different \n",
    "class Atm:\n",
    "    __counter = 1\n",
    "    #costructor(Special function-- we don't have to call it explecitily for execution)\n",
    "    def __init__(self):\n",
    "        self.pin = ''\n",
    "        self.__balance = 0\n",
    "        self.cid = Atm.__counter\n",
    "        Atm.__counter = Atm.__counter +1\n",
    "        #self.menu()\n",
    "    #utility method    \n",
    "    @staticmethod\n",
    "    def get_counter():\n",
    "        return Atm.__counter\n",
    "    \n",
    "    def set_counter(self):\n",
    "        return Atm.__counter\n",
    "        \n",
    "    def get_balance(self):\n",
    "        return self.__balance\n",
    "    \n",
    "    def set_balance(self,new_value):\n",
    "        if type(new_value)==int:\n",
    "            return self.__balance\n",
    "        else:\n",
    "            (\"This can't be possible\")\n",
    "        \n",
    "        \n",
    "    def menu(self):\n",
    "        user_input = input(\"\"\"\n",
    "        Hi how can i help you?\n",
    "        1. Press 1 to create pin\n",
    "        2. Press 2 to change pin\n",
    "        3. Press 3 to check balance\n",
    "        4. Press 4 to withdraw\n",
    "        5. Anything else to exit\n",
    "        \"\"\")\n",
    "        \n",
    "        if user_input=='1':\n",
    "            #create pin\n",
    "            self.cretae_pin()\n",
    "        elif user_input=='2':\n",
    "            #change pin\n",
    "            self.change_pin()\n",
    "        elif user_input=='3':\n",
    "            #check balace\n",
    "            self.check_balance()\n",
    "        elif user_input=='4':\n",
    "            #withdraw\n",
    "            self.withdraw()\n",
    "        else:\n",
    "            exit()\n",
    "    def cretae_pin(self):\n",
    "        user_pin = input(\"enter your pin\")\n",
    "        self.pin = user_pin\n",
    "        user_balance = int(input('enter balance'))\n",
    "        self.__balance = user_balance\n",
    "        print(\"pin created successfully\")\n",
    "        self.menu()\n",
    "    def change_pin(self):\n",
    "        current_pin = input('enter your current pin')\n",
    "        if current_pin==self.pin:\n",
    "            #let him chnage the pin\n",
    "            new_pin = input(\"enter new pin\")\n",
    "            self.pin = new_pin\n",
    "            print(\"pin created successfully\")\n",
    "            self.menu()\n",
    "        else:\n",
    "            print(\"You can't change the pin\")\n",
    "            self.menu()\n",
    "    def check_balance(self):\n",
    "        user_pin = input(\"enter your pin\")\n",
    "        if user_pin==self.pin:\n",
    "            print(\"Your balance is\", self.__balance)\n",
    "        else:\n",
    "            print(\"Can't tell you the balance\")\n",
    "            self.menu()\n",
    "            \n",
    "    def withdraw(self):\n",
    "        user_pin = input(\"enter your pin\")\n",
    "        if user_pin==self.pin:\n",
    "            #allow to withdraw\n",
    "            amount = int(input('enter the amount'))\n",
    "            if amount <= self.__balance:\n",
    "                self.balance = self.__balance-amount\n",
    "                print(\"withdrawal successful. balance is\",self.__balance)\n",
    "                self.menu()\n",
    "            else:\n",
    "                print(\"You don't have sufficient money\")\n",
    "        else:\n",
    "            (\"your password is incorrect\")\n",
    "        self.menu()\n",
    "            \n",
    "            "
   ]
  },
  {
   "cell_type": "code",
   "execution_count": 7,
   "id": "f9629acf",
   "metadata": {},
   "outputs": [],
   "source": [
    "c1 = Atm()"
   ]
  },
  {
   "cell_type": "code",
   "execution_count": 8,
   "id": "efbe6d28",
   "metadata": {},
   "outputs": [],
   "source": [
    "c2=Atm()"
   ]
  },
  {
   "cell_type": "code",
   "execution_count": 9,
   "id": "debdf924",
   "metadata": {},
   "outputs": [],
   "source": [
    "c3 =Atm()"
   ]
  },
  {
   "cell_type": "code",
   "execution_count": 11,
   "id": "b3c7a396",
   "metadata": {},
   "outputs": [
    {
     "data": {
      "text/plain": [
       "1"
      ]
     },
     "execution_count": 11,
     "metadata": {},
     "output_type": "execute_result"
    }
   ],
   "source": [
    "c1.cid"
   ]
  },
  {
   "cell_type": "code",
   "execution_count": 12,
   "id": "98a9b374",
   "metadata": {},
   "outputs": [
    {
     "data": {
      "text/plain": [
       "2"
      ]
     },
     "execution_count": 12,
     "metadata": {},
     "output_type": "execute_result"
    }
   ],
   "source": [
    "c2.cid"
   ]
  },
  {
   "cell_type": "code",
   "execution_count": 13,
   "id": "f870fcbf",
   "metadata": {},
   "outputs": [
    {
     "data": {
      "text/plain": [
       "3"
      ]
     },
     "execution_count": 13,
     "metadata": {},
     "output_type": "execute_result"
    }
   ],
   "source": [
    "c3.cid"
   ]
  },
  {
   "cell_type": "code",
   "execution_count": 14,
   "id": "5549c88b",
   "metadata": {},
   "outputs": [
    {
     "data": {
      "text/plain": [
       "4"
      ]
     },
     "execution_count": 14,
     "metadata": {},
     "output_type": "execute_result"
    }
   ],
   "source": [
    "Atm.counter"
   ]
  },
  {
   "cell_type": "code",
   "execution_count": 17,
   "id": "2acab1db",
   "metadata": {},
   "outputs": [
    {
     "data": {
      "text/plain": [
       "1"
      ]
     },
     "execution_count": 17,
     "metadata": {},
     "output_type": "execute_result"
    }
   ],
   "source": [
    "Atm.get_counter()"
   ]
  },
  {
   "cell_type": "markdown",
   "id": "2a67077a",
   "metadata": {},
   "source": [
    "# Class relationship"
   ]
  },
  {
   "cell_type": "markdown",
   "id": "de740594",
   "metadata": {},
   "source": [
    ". Aggregation"
   ]
  },
  {
   "cell_type": "markdown",
   "id": "4c613059",
   "metadata": {},
   "source": [
    ". Inheritance"
   ]
  },
  {
   "cell_type": "markdown",
   "id": "da65db8f",
   "metadata": {},
   "source": [
    "# Aggregation (Has-A relationship)"
   ]
  },
  {
   "cell_type": "code",
   "execution_count": 30,
   "id": "6d0fb5cd",
   "metadata": {},
   "outputs": [],
   "source": [
    "#one class own the other class\n",
    "#ex -> customer-address\n",
    "\n",
    "class Customer:\n",
    "    def __init__(self,name,gender,address):\n",
    "        self.name = name\n",
    "        self.gender = gender\n",
    "        self.address = address\n",
    "    def print_address(self):\n",
    "        print(self.address.get_city(),self.address.pin,self.address.state)\n",
    "class Address:\n",
    "    def __init__(self,city,pin,state):\n",
    "        self.__city = city\n",
    "        self.pin = pin\n",
    "        self.state = state\n",
    "    def get_city(self):\n",
    "        return self.__city\n",
    "        \n"
   ]
  },
  {
   "cell_type": "code",
   "execution_count": 31,
   "id": "3792a418",
   "metadata": {},
   "outputs": [
    {
     "name": "stdout",
     "output_type": "stream",
     "text": [
      "bbsr 751010 Odisha\n"
     ]
    }
   ],
   "source": [
    "add1 = Address(\"bbsr\",751010,\"Odisha\")\n",
    "cust = Customer(\"Sudhanshu\",\"male\",add1)\n",
    "\n",
    "cust.print_address()\n"
   ]
  },
  {
   "cell_type": "markdown",
   "id": "a72e5c84",
   "metadata": {},
   "source": [
    "# Inheritance"
   ]
  },
  {
   "cell_type": "code",
   "execution_count": 35,
   "id": "bc155762",
   "metadata": {},
   "outputs": [
    {
     "name": "stdout",
     "output_type": "stream",
     "text": [
      "Sudhanshu\n",
      "login\n"
     ]
    }
   ],
   "source": [
    "#example\n",
    "\n",
    "#parent\n",
    "class User:\n",
    "    def __init__(self):\n",
    "        self.name = \"Sudhanshu\"\n",
    "        self.gender = \"male\"\n",
    "        \n",
    "    def login(self):\n",
    "        print(\"login\")\n",
    "        \n",
    "#child\n",
    "\n",
    "class Student(User):\n",
    "    def enroll(self):\n",
    "        print(\"enroll into the course\")\n",
    "u = User()\n",
    "s = Student()\n",
    "print(s.name)\n",
    "s.login()"
   ]
  },
  {
   "cell_type": "code",
   "execution_count": 37,
   "id": "1266f11e",
   "metadata": {},
   "outputs": [
    {
     "name": "stdout",
     "output_type": "stream",
     "text": [
      "Pratap\n"
     ]
    }
   ],
   "source": [
    "class Father:\n",
    "    def __init__(self):\n",
    "        self.name=\"Pratap\"\n",
    "        self.age = 44\n",
    "        \n",
    "class Son(Father):\n",
    "    def new(self):\n",
    "        print(\"Hii, welcome\")\n",
    "f = Father()\n",
    "s = Son()\n",
    "print(s.name)"
   ]
  },
  {
   "cell_type": "code",
   "execution_count": 38,
   "id": "494c6c23",
   "metadata": {},
   "outputs": [],
   "source": [
    "#what's get inherited\n",
    "#constructor\n",
    "#Non private attributes\n",
    "#Non private Methods\n"
   ]
  },
  {
   "cell_type": "code",
   "execution_count": 40,
   "id": "0984e3d7",
   "metadata": {},
   "outputs": [
    {
     "name": "stdout",
     "output_type": "stream",
     "text": [
      "Inside phone constructor\n",
      "Buying phone\n"
     ]
    }
   ],
   "source": [
    "# constructor example\n",
    "\n",
    "class Phone:\n",
    "    def __init__(self,price,brand,camera):\n",
    "        print(\"Inside phone constructor\")\n",
    "        self.price = price\n",
    "        self.brand = brand\n",
    "        self.camera = camera\n",
    "        \n",
    "    def buy(self):\n",
    "        print(\"Buying phone\")\n",
    "        \n",
    "class SmartPhone(Phone):\n",
    "    pass\n",
    "\n",
    "s = SmartPhone(20000,\"apple\",13)\n",
    "s.buy()"
   ]
  },
  {
   "cell_type": "code",
   "execution_count": 42,
   "id": "331e9b7e",
   "metadata": {},
   "outputs": [
    {
     "name": "stdout",
     "output_type": "stream",
     "text": [
      "Buying a smartphone\n"
     ]
    }
   ],
   "source": [
    "#method overriding\n",
    "class Phone:\n",
    "    def __init__(self,price,brand,camera):\n",
    "        #print(\"Inside phone constructor\")\n",
    "        self.price = price\n",
    "        self.brand = brand\n",
    "        self.camera = camera\n",
    "        \n",
    "    def buy(self):\n",
    "        print(\"Buying phone\")\n",
    "        \n",
    "class SmartPhone(Phone):\n",
    "    def buy(self):\n",
    "        print(\"Buying a smartphone\")\n",
    "\n",
    "s = SmartPhone(20000,\"apple\",13)\n",
    "s.buy()"
   ]
  },
  {
   "cell_type": "markdown",
   "id": "df9f86da",
   "metadata": {},
   "source": [
    "# Super Keyword"
   ]
  },
  {
   "cell_type": "code",
   "execution_count": 2,
   "id": "c86bc03d",
   "metadata": {},
   "outputs": [
    {
     "name": "stdout",
     "output_type": "stream",
     "text": [
      "Buying a smartphone\n",
      "Buying phone\n"
     ]
    }
   ],
   "source": [
    "#super keyword is use to call the method of parent \n",
    "class Phone:\n",
    "    def __init__(self,price,brand,camera):\n",
    "        #print(\"Inside phone constructor\")\n",
    "        self.price = price\n",
    "        self.brand = brand\n",
    "        self.camera = camera\n",
    "        \n",
    "    def buy(self):\n",
    "        print(\"Buying phone\")\n",
    "        \n",
    "class SmartPhone(Phone):\n",
    "    def buy(self):\n",
    "        print(\"Buying a smartphone\")\n",
    "        #syntax to call\n",
    "        super().buy()\n",
    "\n",
    "s = SmartPhone(20000,\"apple\",13)\n",
    "s.buy()"
   ]
  },
  {
   "cell_type": "markdown",
   "id": "f198947a",
   "metadata": {},
   "source": [
    "# Types of inheritance"
   ]
  },
  {
   "cell_type": "markdown",
   "id": "717d2675",
   "metadata": {},
   "source": [
    ". single inheritance"
   ]
  },
  {
   "cell_type": "markdown",
   "id": "7f1647ec",
   "metadata": {},
   "source": [
    ". Multilevel inheritance"
   ]
  },
  {
   "cell_type": "markdown",
   "id": "c663e8c3",
   "metadata": {},
   "source": [
    ". Hierarchical inheritance"
   ]
  },
  {
   "cell_type": "markdown",
   "id": "456cafde",
   "metadata": {},
   "source": [
    ". Multiple inheritance (diamond Problem)"
   ]
  },
  {
   "cell_type": "markdown",
   "id": "2a6ee970",
   "metadata": {},
   "source": [
    ". Hybrid inheritance"
   ]
  },
  {
   "cell_type": "markdown",
   "id": "5b4efd59",
   "metadata": {},
   "source": [
    "# Polymorphism"
   ]
  },
  {
   "cell_type": "markdown",
   "id": "938ed710",
   "metadata": {},
   "source": [
    ". method overriding"
   ]
  },
  {
   "cell_type": "markdown",
   "id": "205142f7",
   "metadata": {},
   "source": [
    ". method overloading"
   ]
  },
  {
   "cell_type": "markdown",
   "id": "985395ed",
   "metadata": {},
   "source": [
    " .Operator Overloading"
   ]
  },
  {
   "cell_type": "code",
   "execution_count": 45,
   "id": "8dfb4b3f",
   "metadata": {},
   "outputs": [],
   "source": [
    "#method overloadind-> makes code clean -> same method but different function\n",
    "#-> we can use it  by default by setting default parameter\n",
    "#Operator Overloading-> same operator but different functionality"
   ]
  },
  {
   "cell_type": "markdown",
   "id": "d3ba03d8",
   "metadata": {},
   "source": [
    "# Abstraction"
   ]
  },
  {
   "cell_type": "code",
   "execution_count": 46,
   "id": "8d6c4357",
   "metadata": {},
   "outputs": [],
   "source": [
    "#It reduces the complexity for the user by making the relevant part accessible and usable leaving the unnecessary code hidden"
   ]
  },
  {
   "cell_type": "code",
   "execution_count": 47,
   "id": "68779366",
   "metadata": {},
   "outputs": [],
   "source": [
    "from abc import ABC, abstractmethod\n",
    "class MyClass(ABC):\n",
    " @abstractmethod\n",
    " def mymethod(self):\n",
    "  #empty body\n",
    "  pass"
   ]
  },
  {
   "cell_type": "markdown",
   "id": "4f1b01a6",
   "metadata": {},
   "source": [
    "# File Handeling"
   ]
  },
  {
   "cell_type": "code",
   "execution_count": 48,
   "id": "d030fd1d",
   "metadata": {},
   "outputs": [],
   "source": [
    "#Open file\n",
    "#Read/write file\n",
    "#close file\n"
   ]
  },
  {
   "cell_type": "markdown",
   "id": "7def8789",
   "metadata": {},
   "source": [
    "Writing to a file"
   ]
  },
  {
   "cell_type": "code",
   "execution_count": 57,
   "id": "a3c4b5ec",
   "metadata": {},
   "outputs": [
    {
     "ename": "ValueError",
     "evalue": "I/O operation on closed file.",
     "output_type": "error",
     "traceback": [
      "\u001b[0;31m---------------------------------------------------------------------------\u001b[0m",
      "\u001b[0;31mValueError\u001b[0m                                Traceback (most recent call last)",
      "Input \u001b[0;32mIn [57]\u001b[0m, in \u001b[0;36m<cell line: 7>\u001b[0;34m()\u001b[0m\n\u001b[1;32m      5\u001b[0m f\u001b[38;5;241m.\u001b[39mclose() \n\u001b[1;32m      6\u001b[0m \u001b[38;5;66;03m#since file is closed hence this will not work\u001b[39;00m\n\u001b[0;32m----> 7\u001b[0m \u001b[43mf\u001b[49m\u001b[38;5;241;43m.\u001b[39;49m\u001b[43mwrite\u001b[49m\u001b[43m(\u001b[49m\u001b[38;5;124;43m\"\u001b[39;49m\u001b[38;5;124;43mhello\u001b[39;49m\u001b[38;5;124;43m\"\u001b[39;49m\u001b[43m)\u001b[49m\n",
      "\u001b[0;31mValueError\u001b[0m: I/O operation on closed file."
     ]
    }
   ],
   "source": [
    "#case-1 - if the file is not present\n",
    "\n",
    "f = open(\"sample.txt\",'w')\n",
    "f.write(\"hello world\")\n",
    "f.close() \n",
    "#since file is closed hence this will not work\n",
    "f.write(\"hello\")"
   ]
  },
  {
   "cell_type": "code",
   "execution_count": 58,
   "id": "6cb4b7f5",
   "metadata": {},
   "outputs": [],
   "source": [
    "#write multiple strings\n",
    "f = open(\"sample1\",'w')\n",
    "f.write(\"hello\")\n",
    "f.write(\"\\nhow are you?\")\n",
    "f.close()"
   ]
  },
  {
   "cell_type": "code",
   "execution_count": 59,
   "id": "e98dfde6",
   "metadata": {},
   "outputs": [],
   "source": [
    "#case2 - if the file is already present\n",
    "f = open(\"sample.txt\",\"w\")\n",
    "f.write(\"I'm a champion\")\n",
    "f.close()"
   ]
  },
  {
   "cell_type": "code",
   "execution_count": 52,
   "id": "c9b45523",
   "metadata": {},
   "outputs": [],
   "source": [
    "# how exactly open() works?"
   ]
  },
  {
   "cell_type": "code",
   "execution_count": 61,
   "id": "fad02fc1",
   "metadata": {},
   "outputs": [],
   "source": [
    "#problem with w mode\n",
    "#introducing append mode\n",
    "f = open(\"sample1\",'a')\n",
    "f.write(\"\\nI am fine\")\n",
    "f.close()"
   ]
  },
  {
   "cell_type": "code",
   "execution_count": 63,
   "id": "451ef4c2",
   "metadata": {},
   "outputs": [],
   "source": [
    "#write lines\n",
    "L = [\"hello\\n\",\"hi\\n\",\"how\\n\",'how are you\\n','I am fine']\n",
    "\n",
    "f=open(\"sample.txt\",'w')\n",
    "f.writelines(L)\n",
    "f.close()"
   ]
  },
  {
   "cell_type": "code",
   "execution_count": 67,
   "id": "c414dd13",
   "metadata": {},
   "outputs": [],
   "source": [
    "tup1 = (\"hello\\n\",\"hi\\n\",\"how\\n\",'how are you\\n','I am fine')\n",
    "\n",
    "f = open(\"newtest.txt\",'w')\n",
    "f.writelines(tup1)\n",
    "f.close()"
   ]
  },
  {
   "cell_type": "code",
   "execution_count": 68,
   "id": "ac62b81c",
   "metadata": {},
   "outputs": [
    {
     "name": "stdout",
     "output_type": "stream",
     "text": [
      "hello\n",
      "hi\n",
      "how\n",
      "how are you\n",
      "I am fine\n"
     ]
    }
   ],
   "source": [
    "#reading from files\n",
    "# -> using read()\n",
    "f= open(\"sample.txt\",'r')\n",
    "s = f.read()\n",
    "print(s)\n",
    "f.close()"
   ]
  },
  {
   "cell_type": "code",
   "execution_count": 69,
   "id": "325cb898",
   "metadata": {},
   "outputs": [
    {
     "name": "stdout",
     "output_type": "stream",
     "text": [
      "hello\n",
      "hi\n",
      "h\n"
     ]
    }
   ],
   "source": [
    "# reading upto n chars\n",
    "f= open(\"sample.txt\",'r')\n",
    "s = f.read(10)\n",
    "print(s)\n",
    "f.close()"
   ]
  },
  {
   "cell_type": "code",
   "execution_count": 71,
   "id": "da42631f",
   "metadata": {},
   "outputs": [
    {
     "name": "stdout",
     "output_type": "stream",
     "text": [
      "hello\n",
      "hi\n"
     ]
    }
   ],
   "source": [
    "# reading() -> to read line by line\n",
    "f= open(\"sample.txt\",'r')\n",
    "print(f.readline(),end='')\n",
    "print(f.readline(),end='')\n",
    "f.close()"
   ]
  },
  {
   "cell_type": "code",
   "execution_count": 73,
   "id": "f52dc602",
   "metadata": {},
   "outputs": [
    {
     "name": "stdout",
     "output_type": "stream",
     "text": [
      "hello\n",
      "hi\n",
      "how\n",
      "how are you\n",
      "I am fine"
     ]
    }
   ],
   "source": [
    "# reading entire using readline\n",
    "f = open(\"sample.txt\",'r')\n",
    "while True:\n",
    "    data =f.readline()\n",
    "    \n",
    "    if data=='':\n",
    "        break\n",
    "    else:\n",
    "        print(data,end='')\n",
    "        \n",
    "f.close()"
   ]
  },
  {
   "cell_type": "markdown",
   "id": "d3641735",
   "metadata": {},
   "source": [
    "# Using Context Manager (With)"
   ]
  },
  {
   "cell_type": "code",
   "execution_count": 77,
   "id": "ad813d42",
   "metadata": {},
   "outputs": [],
   "source": [
    "# with\n",
    "#. with keyword closes the file as soon as the usage is over\n",
    "with open(\"sample1\",'w') as f:\n",
    "    f.write(\"hehehe\")"
   ]
  },
  {
   "cell_type": "code",
   "execution_count": 78,
   "id": "82d77c82",
   "metadata": {},
   "outputs": [
    {
     "ename": "ValueError",
     "evalue": "I/O operation on closed file.",
     "output_type": "error",
     "traceback": [
      "\u001b[0;31m---------------------------------------------------------------------------\u001b[0m",
      "\u001b[0;31mValueError\u001b[0m                                Traceback (most recent call last)",
      "Input \u001b[0;32mIn [78]\u001b[0m, in \u001b[0;36m<cell line: 1>\u001b[0;34m()\u001b[0m\n\u001b[0;32m----> 1\u001b[0m \u001b[43mf\u001b[49m\u001b[38;5;241;43m.\u001b[39;49m\u001b[43mwrite\u001b[49m\u001b[43m(\u001b[49m\u001b[38;5;124;43m'\u001b[39;49m\u001b[38;5;124;43mhohoho\u001b[39;49m\u001b[38;5;124;43m'\u001b[39;49m\u001b[43m)\u001b[49m\n",
      "\u001b[0;31mValueError\u001b[0m: I/O operation on closed file."
     ]
    }
   ],
   "source": [
    "f.write('hohoho')"
   ]
  },
  {
   "cell_type": "code",
   "execution_count": 80,
   "id": "d199bace",
   "metadata": {},
   "outputs": [
    {
     "name": "stdout",
     "output_type": "stream",
     "text": [
      "hello\n",
      "hi\n",
      "how\n",
      "how are you\n",
      "I am fine\n"
     ]
    }
   ],
   "source": [
    "# try f.read() now\n",
    "with open('sample.txt','r') as f:\n",
    "    print(f.read())\n"
   ]
  },
  {
   "cell_type": "code",
   "execution_count": 81,
   "id": "68ebf716",
   "metadata": {},
   "outputs": [
    {
     "name": "stdout",
     "output_type": "stream",
     "text": [
      "hello\n",
      "hi\n",
      "h\n",
      "ow\n",
      "how are\n"
     ]
    }
   ],
   "source": [
    "# moving within a file -> 10 char then 10 char\n",
    "with open('sample.txt','r') as f:\n",
    "    print(f.read(10))\n",
    "    print(f.read(10))      "
   ]
  },
  {
   "cell_type": "code",
   "execution_count": 82,
   "id": "8241bab6",
   "metadata": {},
   "outputs": [],
   "source": [
    "# benefit? -> to load a big file in memory\n",
    "big_L = [\"hello world\" for i in range(1000)]\n",
    "with open('big.txt','w') as f:\n",
    "    f.writelines(big_L)\n"
   ]
  },
  {
   "cell_type": "code",
   "execution_count": 85,
   "id": "03b353cb",
   "metadata": {},
   "outputs": [
    {
     "name": "stdout",
     "output_type": "stream",
     "text": [
      "dhello wor**orldhello **o worldhel**ello world**ldhello wo**worldhello**lo worldhe**hello worl**rldhello w** worldhell**llo worldh**dhello wor**orldhello **o worldhel**ello world**ldhello wo**worldhello**lo worldhe**hello worl**rldhello w** worldhell**llo worldh**dhello wor**orldhello **o worldhel**ello world**ldhello wo**worldhello**lo worldhe**hello worl**rldhello w** worldhell**llo worldh**dhello wor**orldhello **o worldhel**ello world**ldhello wo**worldhello**lo worldhe**hello worl**rldhello w** worldhell**llo worldh**dhello wor**orldhello **o worldhel**ello world**ldhello wo**worldhello**lo worldhe**hello worl**rldhello w** worldhell**llo worldh**dhello wor**orldhello **o worldhel**ello world**ldhello wo**worldhello**lo worldhe**hello worl**rldhello w** worldhell**llo worldh**dhello wor**orldhello **o worldhel**ello world**ldhello wo**worldhello**lo worldhe**hello worl**rldhello w** worldhell**llo worldh**dhello wor**orldhello **o worldhel**ello world**ldhello wo**worldhello**lo worldhe**hello worl**rldhello w** worldhell**llo worldh**dhello wor**orldhello **o worldhel**ello world**ldhello wo**worldhello**lo worldhe**hello worl**rldhello w** worldhell**llo worldh**dhello wor**orldhello **o worldhel**ello world**ldhello wo**worldhello**lo worldhe**hello worl**rldhello w** worldhell**llo worldh**dhello wor**orldhello **o worldhel**ello world**ldhello wo**worldhello**lo worldhe**hello worl**rldhello w** worldhell**llo worldh**dhello wor**orldhello **o worldhel**ello world**ldhello wo**worldhello**lo worldhe**hello worl**rldhello w** worldhell**llo worldh**dhello wor**orldhello **o worldhel**ello world**ldhello wo**worldhello**lo worldhe**hello worl**rldhello w** worldhell**llo worldh**dhello wor**orldhello **o worldhel**ello world**ldhello wo**worldhello**lo worldhe**hello worl**rldhello w** worldhell**llo worldh**dhello wor**orldhello **o worldhel**ello world**ldhello wo**worldhello**lo worldhe**hello worl**rldhello w** worldhell**llo worldh**dhello wor**orldhello **o worldhel**ello world**ldhello wo**worldhello**lo worldhe**hello worl**rldhello w** worldhell**llo worldh**dhello wor**orldhello **o worldhel**ello world**ldhello wo**worldhello**lo worldhe**hello worl**rldhello w** worldhell**llo worldh**dhello wor**orldhello **o worldhel**ello world**ldhello wo**worldhello**lo worldhe**hello worl**rldhello w** worldhell**llo worldh**dhello wor**orldhello **o worldhel**ello world**ldhello wo**worldhello**lo worldhe**hello worl**rldhello w** worldhell**llo worldh**dhello wor**orldhello **o worldhel**ello world**ldhello wo**worldhello**lo worldhe**hello worl**rldhello w** worldhell**llo worldh**dhello wor**orldhello **o worldhel**ello world**ldhello wo**worldhello**lo worldhe**hello worl**rldhello w** worldhell**llo worldh**dhello wor**orldhello **o worldhel**ello world**ldhello wo**worldhello**lo worldhe**hello worl**rldhello w** worldhell**llo worldh**dhello wor**orldhello **o worldhel**ello world**ldhello wo**worldhello**lo worldhe**hello worl**rldhello w** worldhell**llo worldh**dhello wor**orldhello **o worldhel**ello world**ldhello wo**worldhello**lo worldhe**hello worl**rldhello w** worldhell**llo worldh**dhello wor**orldhello **o worldhel**ello world**ldhello wo**worldhello**lo worldhe**hello worl**rldhello w** worldhell**llo worldh**dhello wor**orldhello **o worldhel**ello world**ldhello wo**worldhello**lo worldhe**hello worl**rldhello w** worldhell**llo worldh**dhello wor**orldhello **o worldhel**ello world**ldhello wo**worldhello**lo worldhe**hello worl**rldhello w** worldhell**llo worldh**dhello wor**orldhello **o worldhel**ello world**ldhello wo**worldhello**lo worldhe**hello worl**rldhello w** worldhell**llo worldh**dhello wor**orldhello **o worldhel**ello world**ldhello wo**worldhello**lo worldhe**hello worl**rldhello w** worldhell**llo worldh**dhello wor**orldhello **o worldhel**ello world**ldhello wo**worldhello**lo worldhe**hello worl**rldhello w** worldhell**llo worldh**dhello wor**orldhello **o worldhel**ello world**ldhello wo**worldhello**lo worldhe**hello worl**rldhello w** worldhell**llo worldh**dhello wor**orldhello **o worldhel**ello world**ldhello wo**worldhello**lo worldhe**hello worl**rldhello w** worldhell**llo worldh**dhello wor**orldhello **o worldhel**ello world**ldhello wo**worldhello**lo worldhe**hello worl**rldhello w** worldhell**llo worldh**dhello wor**orldhello **o worldhel**ello world**"
     ]
    }
   ],
   "source": [
    "with open ('big.txt','r') as f:\n",
    "    chunk_size = 10\n",
    "    while len(f.read(chunk_size)) >0:\n",
    "        print(f.read(chunk_size),end=\"**\")\n",
    "        f.read(chunk_size)"
   ]
  },
  {
   "cell_type": "code",
   "execution_count": 89,
   "id": "4f8a4641",
   "metadata": {},
   "outputs": [
    {
     "name": "stdout",
     "output_type": "stream",
     "text": [
      "hello\n",
      "hi\n",
      "h\n",
      "10\n",
      "hello\n",
      "hi\n",
      "h\n",
      "10\n"
     ]
    }
   ],
   "source": [
    "#seek and tell function\n",
    "with open('sample.txt','r') as f:\n",
    "    print(f.read(10))\n",
    "    print(f.tell())      \n",
    "    f.seek(0)\n",
    "    print(f.read(10))\n",
    "    print(f.tell())"
   ]
  },
  {
   "cell_type": "code",
   "execution_count": 90,
   "id": "818ea5a2",
   "metadata": {},
   "outputs": [],
   "source": [
    "#seek during write\n",
    "with open('sample.txt','w') as f:\n",
    "    f.write(\"hello\")\n",
    "    f.seek(0)\n",
    "    f.write('x')\n"
   ]
  },
  {
   "cell_type": "code",
   "execution_count": 92,
   "id": "5e5196c0",
   "metadata": {},
   "outputs": [],
   "source": [
    "#working with binary file\n",
    "with open(\"myimg.jpeg\",\"rb\") as f:\n",
    "    with open (\"myimg.jpeg_copy\",\"wb\") as wf:\n",
    "        wf.write(f.read())"
   ]
  },
  {
   "cell_type": "code",
   "execution_count": 93,
   "id": "73e96091",
   "metadata": {},
   "outputs": [
    {
     "ename": "TypeError",
     "evalue": "write() argument must be str, not int",
     "output_type": "error",
     "traceback": [
      "\u001b[0;31m---------------------------------------------------------------------------\u001b[0m",
      "\u001b[0;31mTypeError\u001b[0m                                 Traceback (most recent call last)",
      "Input \u001b[0;32mIn [93]\u001b[0m, in \u001b[0;36m<cell line: 2>\u001b[0;34m()\u001b[0m\n\u001b[1;32m      1\u001b[0m \u001b[38;5;66;03m#working with other data types\u001b[39;00m\n\u001b[1;32m      2\u001b[0m \u001b[38;5;28;01mwith\u001b[39;00m \u001b[38;5;28mopen\u001b[39m (\u001b[38;5;124m'\u001b[39m\u001b[38;5;124msample.txt\u001b[39m\u001b[38;5;124m'\u001b[39m,\u001b[38;5;124m'\u001b[39m\u001b[38;5;124mw\u001b[39m\u001b[38;5;124m'\u001b[39m) \u001b[38;5;28;01mas\u001b[39;00m f:\n\u001b[0;32m----> 3\u001b[0m     \u001b[43mf\u001b[49m\u001b[38;5;241;43m.\u001b[39;49m\u001b[43mwrite\u001b[49m\u001b[43m(\u001b[49m\u001b[38;5;241;43m5\u001b[39;49m\u001b[43m)\u001b[49m\n",
      "\u001b[0;31mTypeError\u001b[0m: write() argument must be str, not int"
     ]
    }
   ],
   "source": [
    "#working with other data types\n",
    "with open ('sample.txt','w') as f:\n",
    "    f.write(5)"
   ]
  },
  {
   "cell_type": "code",
   "execution_count": 94,
   "id": "fa6f4973",
   "metadata": {},
   "outputs": [],
   "source": [
    "\n",
    "with open ('sample.txt','w') as f:\n",
    "    f.write(\"5\")"
   ]
  },
  {
   "cell_type": "code",
   "execution_count": 96,
   "id": "7cb69614",
   "metadata": {},
   "outputs": [],
   "source": [
    "# more complex data\n",
    "d = {\n",
    "    \"name\":\"Sudhanshu\",\n",
    "    \"age\":23,\n",
    "    \"gender\":\"male\"\n",
    "}\n",
    "with open(\"sample.txt\",'w') as f:\n",
    "    f.write(str(d))"
   ]
  },
  {
   "cell_type": "markdown",
   "id": "67102727",
   "metadata": {},
   "source": [
    "# Serialization and Deserialization"
   ]
  },
  {
   "cell_type": "code",
   "execution_count": 97,
   "id": "fe226918",
   "metadata": {},
   "outputs": [],
   "source": [
    "# serialization -> process of converting python data types to JSON format\n",
    "# deserialization -> process of converting JSON to python data types"
   ]
  },
  {
   "cell_type": "code",
   "execution_count": 98,
   "id": "71344a99",
   "metadata": {},
   "outputs": [],
   "source": [
    "# serialization using json module\n",
    "#list\n",
    "import json\n",
    "l = [1,2,3,4]\n",
    "with open ('demo_json','w') as f:\n",
    "    json.dump(l,f)\n"
   ]
  },
  {
   "cell_type": "code",
   "execution_count": 99,
   "id": "e9dc49db",
   "metadata": {},
   "outputs": [],
   "source": [
    "#dict\n",
    "d = {\n",
    "    \"name\":\"Sudhanshu\",\n",
    "    \"age\":23,\n",
    "    \"gender\":\"male\"\n",
    "}\n",
    "with open(\"demo_json\",'w') as f:\n",
    "    json.dump(d,f,indent=4)"
   ]
  },
  {
   "cell_type": "code",
   "execution_count": 100,
   "id": "b6d748f0",
   "metadata": {},
   "outputs": [
    {
     "name": "stdout",
     "output_type": "stream",
     "text": [
      "{'name': 'Sudhanshu', 'age': 23, 'gender': 'male'}\n"
     ]
    }
   ],
   "source": [
    "#deserialization\n",
    "import json\n",
    "with open ('demo_json','r') as f:\n",
    "    print(json.load(f))"
   ]
  },
  {
   "cell_type": "code",
   "execution_count": 102,
   "id": "94f5666e",
   "metadata": {},
   "outputs": [],
   "source": [
    "# serialize and deserialize tuple\n",
    "t = (1,2,3,4,5)\n",
    "with open (\"demo_json\",'w') as f:\n",
    "    json.dump(t,f)"
   ]
  },
  {
   "cell_type": "code",
   "execution_count": 103,
   "id": "0169d2c8",
   "metadata": {},
   "outputs": [],
   "source": [
    "# serialize and deserialize a nested dict"
   ]
  },
  {
   "cell_type": "code",
   "execution_count": 104,
   "id": "89301929",
   "metadata": {},
   "outputs": [],
   "source": [
    "class Person:\n",
    "    def __init__(self,fname,lname,age,gender):\n",
    "        self.fname = fname\n",
    "        self.lname = lname\n",
    "        self.age = age\n",
    "        self.gender = gender"
   ]
  },
  {
   "cell_type": "code",
   "execution_count": 105,
   "id": "1b27e291",
   "metadata": {},
   "outputs": [],
   "source": [
    "person = Person(\"Sudhanshu\",\"Biswal\",23,\"male\")"
   ]
  },
  {
   "cell_type": "code",
   "execution_count": 106,
   "id": "8423e7da",
   "metadata": {},
   "outputs": [],
   "source": [
    "#can't serialize our class's object"
   ]
  },
  {
   "cell_type": "code",
   "execution_count": 109,
   "id": "6b8d2392",
   "metadata": {},
   "outputs": [],
   "source": [
    "import json\n",
    "def show_object(person):\n",
    "    if isinstance(person,Person):\n",
    "        return \"{person.fname} {person.lname} age-> {person.age} gender -> {person.age}\"\n",
    "    with open ('demo.json','w') as f:\n",
    "        json.dump(person,f,default=show_object)\n",
    "    "
   ]
  },
  {
   "cell_type": "markdown",
   "id": "ffc5c4b1",
   "metadata": {},
   "source": [
    "# Pickling"
   ]
  },
  {
   "cell_type": "markdown",
   "id": "19f87ec8",
   "metadata": {},
   "source": [
    "pickling is the process whereby a python object hierarchy is converted into a byte streamand unpickling is the inverse operation, whereby a byte stream is converted back into an object hierarchy "
   ]
  },
  {
   "cell_type": "code",
   "execution_count": 113,
   "id": "986385ff",
   "metadata": {},
   "outputs": [],
   "source": [
    "class Person:\n",
    "    def __init__(self,name,age):\n",
    "        self.name = name\n",
    "        self.age = age\n",
    "    def dispaly_info(self):\n",
    "        print(\"hi my name is \",self.name ,\"and I am \",self.age, \"years old\")"
   ]
  },
  {
   "cell_type": "code",
   "execution_count": 114,
   "id": "32227b34",
   "metadata": {},
   "outputs": [],
   "source": [
    "p = Person(\"Sudhanshu\",23)"
   ]
  },
  {
   "cell_type": "code",
   "execution_count": 115,
   "id": "f62fb07f",
   "metadata": {},
   "outputs": [],
   "source": [
    "import pickle\n",
    "with open (\"person.pkl\",'wb') as f:\n",
    "    pickle.dump(p,f)"
   ]
  },
  {
   "cell_type": "code",
   "execution_count": 118,
   "id": "a8dd9732",
   "metadata": {},
   "outputs": [
    {
     "name": "stdout",
     "output_type": "stream",
     "text": [
      "hi my name is  Sudhanshu and I am  23 years old\n"
     ]
    }
   ],
   "source": [
    "with open (\"person.pkl\",'rb') as f:\n",
    "    p=pickle.load(f)\n",
    "p.dispaly_info()"
   ]
  },
  {
   "cell_type": "markdown",
   "id": "0e431144",
   "metadata": {},
   "source": [
    "# Recursion"
   ]
  },
  {
   "cell_type": "code",
   "execution_count": 119,
   "id": "e5e6754a",
   "metadata": {},
   "outputs": [
    {
     "name": "stdout",
     "output_type": "stream",
     "text": [
      "120\n"
     ]
    }
   ],
   "source": [
    "def fact(number):\n",
    "    if number==1:\n",
    "        return 1\n",
    "    else:\n",
    "        return number*fact(number-1)\n",
    "print(fact(5))"
   ]
  },
  {
   "cell_type": "code",
   "execution_count": 131,
   "id": "8d5db7af",
   "metadata": {},
   "outputs": [
    {
     "name": "stdout",
     "output_type": "stream",
     "text": [
      "120\n"
     ]
    }
   ],
   "source": [
    "n= 5\n",
    "fact = 1\n",
    "for i in range(1,n+1):\n",
    "    fact = fact*i\n",
    "print(fact)"
   ]
  },
  {
   "cell_type": "markdown",
   "id": "a9ac4e64",
   "metadata": {},
   "source": [
    "# Exception handeling and Modules and Packages"
   ]
  },
  {
   "cell_type": "code",
   "execution_count": 132,
   "id": "69390f42",
   "metadata": {},
   "outputs": [],
   "source": [
    "# during compilation -> Syntax error\n",
    "# during execution -> Exception\n"
   ]
  },
  {
   "cell_type": "markdown",
   "id": "53f2625a",
   "metadata": {},
   "source": [
    "Syntax error"
   ]
  },
  {
   "cell_type": "code",
   "execution_count": 133,
   "id": "8bfa0915",
   "metadata": {},
   "outputs": [],
   "source": [
    "# sommetime in the program is not written according to the program grammer.\n",
    "# Error is raised by the interpreter/compiler\n",
    "# You can solve it by rectifying the program"
   ]
  },
  {
   "cell_type": "code",
   "execution_count": 134,
   "id": "be013f0b",
   "metadata": {},
   "outputs": [
    {
     "ename": "SyntaxError",
     "evalue": "invalid syntax (2412461998.py, line 2)",
     "output_type": "error",
     "traceback": [
      "\u001b[0;36m  Input \u001b[0;32mIn [134]\u001b[0;36m\u001b[0m\n\u001b[0;31m    print'Hello world'\u001b[0m\n\u001b[0m         ^\u001b[0m\n\u001b[0;31mSyntaxError\u001b[0m\u001b[0;31m:\u001b[0m invalid syntax\n"
     ]
    }
   ],
   "source": [
    "#example\n",
    "print'Hello world'"
   ]
  },
  {
   "cell_type": "code",
   "execution_count": 135,
   "id": "51a41f91",
   "metadata": {},
   "outputs": [],
   "source": [
    "#other example\n",
    "#leaving symbols like colon,brackets\n",
    "#Misspelling a keyword\n",
    "#Incorrect indentation\n",
    "#empty if/else/loops/class/functions\n"
   ]
  },
  {
   "cell_type": "code",
   "execution_count": 140,
   "id": "91e1918a",
   "metadata": {},
   "outputs": [
    {
     "ename": "IndexError",
     "evalue": "list index out of range",
     "output_type": "error",
     "traceback": [
      "\u001b[0;31m---------------------------------------------------------------------------\u001b[0m",
      "\u001b[0;31mIndexError\u001b[0m                                Traceback (most recent call last)",
      "Input \u001b[0;32mIn [140]\u001b[0m, in \u001b[0;36m<cell line: 4>\u001b[0;34m()\u001b[0m\n\u001b[1;32m      1\u001b[0m \u001b[38;5;66;03m#index error\u001b[39;00m\n\u001b[1;32m      2\u001b[0m \u001b[38;5;66;03m#The indexerror is thrown when trying to access an item at an invalid index.\u001b[39;00m\n\u001b[1;32m      3\u001b[0m L \u001b[38;5;241m=\u001b[39m [\u001b[38;5;241m1\u001b[39m,\u001b[38;5;241m2\u001b[39m,\u001b[38;5;241m3\u001b[39m]\n\u001b[0;32m----> 4\u001b[0m \u001b[43mL\u001b[49m\u001b[43m[\u001b[49m\u001b[38;5;241;43m10\u001b[39;49m\u001b[43m]\u001b[49m\n",
      "\u001b[0;31mIndexError\u001b[0m: list index out of range"
     ]
    }
   ],
   "source": [
    "#index error\n",
    "#The indexerror is thrown when trying to access an item at an invalid index.\n",
    "L = [1,2,3]\n",
    "L[10]\n"
   ]
  },
  {
   "cell_type": "code",
   "execution_count": 141,
   "id": "7356fc1b",
   "metadata": {},
   "outputs": [
    {
     "ename": "ModuleNotFoundError",
     "evalue": "No module named 'mathi'",
     "output_type": "error",
     "traceback": [
      "\u001b[0;31m---------------------------------------------------------------------------\u001b[0m",
      "\u001b[0;31mModuleNotFoundError\u001b[0m                       Traceback (most recent call last)",
      "Input \u001b[0;32mIn [141]\u001b[0m, in \u001b[0;36m<cell line: 3>\u001b[0;34m()\u001b[0m\n\u001b[1;32m      1\u001b[0m \u001b[38;5;66;03m# ModuleNotFoundError\u001b[39;00m\n\u001b[1;32m      2\u001b[0m \u001b[38;5;66;03m# the ModuleNotFoundError is thrown when a module could not be found\u001b[39;00m\n\u001b[0;32m----> 3\u001b[0m \u001b[38;5;28;01mimport\u001b[39;00m \u001b[38;5;21;01mmathi\u001b[39;00m\n\u001b[1;32m      4\u001b[0m math\u001b[38;5;241m.\u001b[39mfloor(\u001b[38;5;241m5.5\u001b[39m)\n",
      "\u001b[0;31mModuleNotFoundError\u001b[0m: No module named 'mathi'"
     ]
    }
   ],
   "source": [
    "# ModuleNotFoundError\n",
    "# the ModuleNotFoundError is thrown when a module could not be found\n",
    "import mathi\n",
    "math.floor(5.5)"
   ]
  },
  {
   "cell_type": "code",
   "execution_count": 142,
   "id": "692caaac",
   "metadata": {},
   "outputs": [
    {
     "ename": "KeyError",
     "evalue": "'age'",
     "output_type": "error",
     "traceback": [
      "\u001b[0;31m---------------------------------------------------------------------------\u001b[0m",
      "\u001b[0;31mKeyError\u001b[0m                                  Traceback (most recent call last)",
      "Input \u001b[0;32mIn [142]\u001b[0m, in \u001b[0;36m<cell line: 4>\u001b[0;34m()\u001b[0m\n\u001b[1;32m      1\u001b[0m \u001b[38;5;66;03m#keyError\u001b[39;00m\n\u001b[1;32m      2\u001b[0m \u001b[38;5;66;03m#The KeyError is thrown when a key is not found\u001b[39;00m\n\u001b[1;32m      3\u001b[0m d \u001b[38;5;241m=\u001b[39m {\u001b[38;5;124m'\u001b[39m\u001b[38;5;124mName\u001b[39m\u001b[38;5;124m'\u001b[39m:\u001b[38;5;124m\"\u001b[39m\u001b[38;5;124msudhanshu\u001b[39m\u001b[38;5;124m\"\u001b[39m}\n\u001b[0;32m----> 4\u001b[0m \u001b[43md\u001b[49m\u001b[43m[\u001b[49m\u001b[38;5;124;43m'\u001b[39;49m\u001b[38;5;124;43mage\u001b[39;49m\u001b[38;5;124;43m'\u001b[39;49m\u001b[43m]\u001b[49m\n",
      "\u001b[0;31mKeyError\u001b[0m: 'age'"
     ]
    }
   ],
   "source": [
    "#keyError\n",
    "#The KeyError is thrown when a key is not found\n",
    "d = {'Name':\"sudhanshu\"}\n",
    "d['age']\n"
   ]
  },
  {
   "cell_type": "code",
   "execution_count": 146,
   "id": "8f923323",
   "metadata": {},
   "outputs": [
    {
     "ename": "TypeError",
     "evalue": "unsupported operand type(s) for +: 'int' and 'str'",
     "output_type": "error",
     "traceback": [
      "\u001b[0;31m---------------------------------------------------------------------------\u001b[0m",
      "\u001b[0;31mTypeError\u001b[0m                                 Traceback (most recent call last)",
      "Input \u001b[0;32mIn [146]\u001b[0m, in \u001b[0;36m<cell line: 3>\u001b[0;34m()\u001b[0m\n\u001b[1;32m      1\u001b[0m \u001b[38;5;66;03m#TypeError\u001b[39;00m\n\u001b[1;32m      2\u001b[0m \u001b[38;5;66;03m#The TypeError is thrown when an operation or function is applied to an object of an inappropriate type.\u001b[39;00m\n\u001b[0;32m----> 3\u001b[0m \u001b[38;5;241;43m1\u001b[39;49m\u001b[38;5;241;43m+\u001b[39;49m\u001b[38;5;124;43m\"\u001b[39;49m\u001b[38;5;124;43ma\u001b[39;49m\u001b[38;5;124;43m\"\u001b[39;49m\n",
      "\u001b[0;31mTypeError\u001b[0m: unsupported operand type(s) for +: 'int' and 'str'"
     ]
    }
   ],
   "source": [
    "#TypeError\n",
    "#The TypeError is thrown when an operation or function is applied to an object of an inappropriate type.\n",
    "1+\"a\"\n"
   ]
  },
  {
   "cell_type": "code",
   "execution_count": 145,
   "id": "bb3469a0",
   "metadata": {},
   "outputs": [
    {
     "ename": "ValueError",
     "evalue": "invalid literal for int() with base 10: 'a'",
     "output_type": "error",
     "traceback": [
      "\u001b[0;31m---------------------------------------------------------------------------\u001b[0m",
      "\u001b[0;31mValueError\u001b[0m                                Traceback (most recent call last)",
      "Input \u001b[0;32mIn [145]\u001b[0m, in \u001b[0;36m<cell line: 3>\u001b[0;34m()\u001b[0m\n\u001b[1;32m      1\u001b[0m \u001b[38;5;66;03m#ValueError\u001b[39;00m\n\u001b[1;32m      2\u001b[0m \u001b[38;5;66;03m# The ValueError is thrown when a function's argument is of an inappropriate type.\u001b[39;00m\n\u001b[0;32m----> 3\u001b[0m \u001b[38;5;28;43mint\u001b[39;49m\u001b[43m(\u001b[49m\u001b[38;5;124;43m\"\u001b[39;49m\u001b[38;5;124;43ma\u001b[39;49m\u001b[38;5;124;43m\"\u001b[39;49m\u001b[43m)\u001b[49m\n",
      "\u001b[0;31mValueError\u001b[0m: invalid literal for int() with base 10: 'a'"
     ]
    }
   ],
   "source": [
    "#ValueError\n",
    "# The ValueError is thrown when a function's argument is of an inappropriate type.\n",
    "int(\"a\")\n"
   ]
  },
  {
   "cell_type": "code",
   "execution_count": 147,
   "id": "f33b5d77",
   "metadata": {},
   "outputs": [
    {
     "ename": "NameError",
     "evalue": "name 'k' is not defined",
     "output_type": "error",
     "traceback": [
      "\u001b[0;31m---------------------------------------------------------------------------\u001b[0m",
      "\u001b[0;31mNameError\u001b[0m                                 Traceback (most recent call last)",
      "Input \u001b[0;32mIn [147]\u001b[0m, in \u001b[0;36m<cell line: 3>\u001b[0;34m()\u001b[0m\n\u001b[1;32m      1\u001b[0m \u001b[38;5;66;03m#NameError\u001b[39;00m\n\u001b[1;32m      2\u001b[0m \u001b[38;5;66;03m#The NameError is thrown when an object could not be found.\u001b[39;00m\n\u001b[0;32m----> 3\u001b[0m \u001b[38;5;28mprint\u001b[39m(\u001b[43mk\u001b[49m)\n",
      "\u001b[0;31mNameError\u001b[0m: name 'k' is not defined"
     ]
    }
   ],
   "source": [
    "#NameError\n",
    "#The NameError is thrown when an object could not be found.\n",
    "print(k)\n"
   ]
  },
  {
   "cell_type": "code",
   "execution_count": 148,
   "id": "d48d775a",
   "metadata": {},
   "outputs": [
    {
     "ename": "AttributeError",
     "evalue": "'list' object has no attribute 'upper'",
     "output_type": "error",
     "traceback": [
      "\u001b[0;31m---------------------------------------------------------------------------\u001b[0m",
      "\u001b[0;31mAttributeError\u001b[0m                            Traceback (most recent call last)",
      "Input \u001b[0;32mIn [148]\u001b[0m, in \u001b[0;36m<cell line: 3>\u001b[0;34m()\u001b[0m\n\u001b[1;32m      1\u001b[0m \u001b[38;5;66;03m#Attributeerror\u001b[39;00m\n\u001b[1;32m      2\u001b[0m l \u001b[38;5;241m=\u001b[39m [\u001b[38;5;241m1\u001b[39m,\u001b[38;5;241m2\u001b[39m,\u001b[38;5;241m3\u001b[39m]\n\u001b[0;32m----> 3\u001b[0m \u001b[43ml\u001b[49m\u001b[38;5;241;43m.\u001b[39;49m\u001b[43mupper\u001b[49m()\n",
      "\u001b[0;31mAttributeError\u001b[0m: 'list' object has no attribute 'upper'"
     ]
    }
   ],
   "source": [
    "#Attributeerror\n",
    "l = [1,2,3]\n",
    "l.upper()\n",
    "#stacktrace"
   ]
  },
  {
   "cell_type": "markdown",
   "id": "8482da2c",
   "metadata": {},
   "source": [
    "# Excepction"
   ]
  },
  {
   "cell_type": "code",
   "execution_count": 149,
   "id": "1613f95f",
   "metadata": {},
   "outputs": [],
   "source": [
    "#If things go wrong during the execution of the program(runtime). It generally happens when soething unforseen has happened.\n",
    "#Exceptions are raised by the python runtime.\n",
    "#You have to tackle it on the fly\n",
    "\n"
   ]
  },
  {
   "cell_type": "code",
   "execution_count": 150,
   "id": "7307a5d4",
   "metadata": {},
   "outputs": [],
   "source": [
    "#example\n",
    "#Memory overflow\n",
    "#Divide by 0 -> logical error\n",
    "#database error"
   ]
  },
  {
   "cell_type": "code",
   "execution_count": 151,
   "id": "4801b96d",
   "metadata": {},
   "outputs": [],
   "source": [
    "#why it is imp to habdle exceptions\n",
    "#To make it user friendly and for security reason"
   ]
  },
  {
   "cell_type": "code",
   "execution_count": 152,
   "id": "032bee60",
   "metadata": {},
   "outputs": [],
   "source": [
    "#How to handle exceptions\n",
    "# -> Try except block"
   ]
  },
  {
   "cell_type": "code",
   "execution_count": 153,
   "id": "4ffcdc01",
   "metadata": {},
   "outputs": [],
   "source": [
    "#let's create a file\n",
    "with open ('sample.txt','w') as f:\n",
    "    f.write(\"Hello world\")"
   ]
  },
  {
   "cell_type": "code",
   "execution_count": 154,
   "id": "8f1b038c",
   "metadata": {},
   "outputs": [
    {
     "name": "stdout",
     "output_type": "stream",
     "text": [
      "File not found\n"
     ]
    }
   ],
   "source": [
    "#try catch demo\n",
    "try:\n",
    "    with open ('sampl2.txt','r') as f:\n",
    "        print(f.read())\n",
    "except:\n",
    "    print(\"File not found\")"
   ]
  },
  {
   "cell_type": "code",
   "execution_count": 158,
   "id": "27ea1452",
   "metadata": {},
   "outputs": [
    {
     "name": "stdout",
     "output_type": "stream",
     "text": [
      "Hello world\n",
      "5\n",
      "2.5\n",
      "list index out of range\n"
     ]
    }
   ],
   "source": [
    "#catching specific exception\n",
    "try:\n",
    "    m=5\n",
    "    with open ('sample.txt','r') as f:\n",
    "        print(f.read())\n",
    "        print(m)\n",
    "        print(5/2)\n",
    "        L = [1,2,3]\n",
    "        L[10]\n",
    "except FileNotFoundError:\n",
    "    print(\"File not found\")\n",
    "except NameError:\n",
    "    print(\"variable not defined\")\n",
    "except ZeroDivisionError:\n",
    "    print(\"can't divide by zero\")\n",
    "except Exception as e:\n",
    "    print(e)"
   ]
  },
  {
   "cell_type": "code",
   "execution_count": 163,
   "id": "d8dde4e6",
   "metadata": {},
   "outputs": [
    {
     "name": "stdout",
     "output_type": "stream",
     "text": [
      "Hello world\n"
     ]
    }
   ],
   "source": [
    "#else\n",
    "try:\n",
    "    f = open('sample.txt','r')\n",
    "except FileNotFoundError:\n",
    "    print(\"file not found\")\n",
    "except Exception:\n",
    "    print(\"Having some issues\")\n",
    "else:\n",
    "    print(f.read())"
   ]
  },
  {
   "cell_type": "code",
   "execution_count": 161,
   "id": "2449c09c",
   "metadata": {},
   "outputs": [
    {
     "name": "stdout",
     "output_type": "stream",
     "text": [
      "Hello world\n",
      "this is the end\n"
     ]
    }
   ],
   "source": [
    "#finally\n",
    "try:\n",
    "    f = open('sample.txt','r')\n",
    "except FileNotFoundError:\n",
    "    print(\"file not found\")\n",
    "except Exception:\n",
    "    print(\"Having some issues\")\n",
    "else:\n",
    "    print(f.read())\n",
    "finally: #it is use to close all the unnecessary things and it will definitely execute\n",
    "    print('this is the end')\n",
    "    \n",
    "    "
   ]
  },
  {
   "cell_type": "code",
   "execution_count": 164,
   "id": "cb03b02c",
   "metadata": {},
   "outputs": [],
   "source": [
    "#raise exception\n",
    "#In python programming, exception are raised whe errors occur at runtime.\n",
    "#we can also manually raise exceptions using the raise keyword\n"
   ]
  },
  {
   "cell_type": "code",
   "execution_count": 165,
   "id": "a326d887",
   "metadata": {},
   "outputs": [
    {
     "ename": "NameError",
     "evalue": "my wish",
     "output_type": "error",
     "traceback": [
      "\u001b[0;31m---------------------------------------------------------------------------\u001b[0m",
      "\u001b[0;31mNameError\u001b[0m                                 Traceback (most recent call last)",
      "Input \u001b[0;32mIn [165]\u001b[0m, in \u001b[0;36m<cell line: 1>\u001b[0;34m()\u001b[0m\n\u001b[0;32m----> 1\u001b[0m \u001b[38;5;28;01mraise\u001b[39;00m \u001b[38;5;167;01mNameError\u001b[39;00m(\u001b[38;5;124m\"\u001b[39m\u001b[38;5;124mmy wish\u001b[39m\u001b[38;5;124m\"\u001b[39m)\n",
      "\u001b[0;31mNameError\u001b[0m: my wish"
     ]
    }
   ],
   "source": [
    "raise NameError(\"my wish\")"
   ]
  },
  {
   "cell_type": "code",
   "execution_count": 169,
   "id": "e0e738cf",
   "metadata": {},
   "outputs": [
    {
     "name": "stdout",
     "output_type": "stream",
     "text": [
      "You don't have sufficient balance\n"
     ]
    }
   ],
   "source": [
    "class Bank:\n",
    "    def __init__(self,balance):\n",
    "        self.balance = balance\n",
    "    \n",
    "    def withdraw(self,amount):\n",
    "        if amount <0:\n",
    "            raise Exception(\"amount can't be -ve\")\n",
    "        if amount > self.balance:\n",
    "            raise Exception(\"You don't have sufficient balance\")\n",
    "        self.balance = self.balance-amount\n",
    "obj = Bank(10000)\n",
    "try:\n",
    "    obj.withdraw(15000)\n",
    "except Exception as e:\n",
    "    print(e)\n",
    "else:\n",
    "    print(obj.balance)\n",
    "    "
   ]
  },
  {
   "cell_type": "code",
   "execution_count": 172,
   "id": "ed5b5054",
   "metadata": {},
   "outputs": [
    {
     "name": "stdout",
     "output_type": "stream",
     "text": [
      "You don't have sufficient balance\n"
     ]
    }
   ],
   "source": [
    "#creating custom exception\n",
    "class MyException(Exception):\n",
    "    def __init__(self,message):\n",
    "        print(message)\n",
    "class Bank:\n",
    "    def __init__(self,balance):\n",
    "        self.balance = balance\n",
    "    \n",
    "    def withdraw(self,amount):\n",
    "        if amount <0:\n",
    "            raise MyException(\"amount can't be -ve\")\n",
    "        if amount > self.balance:\n",
    "            raise MyException(\"You don't have sufficient balance\")\n",
    "        self.balance = self.balance-amount\n",
    "obj = Bank(10000)\n",
    "try:\n",
    "    obj.withdraw(15000)\n",
    "except MyException as e:\n",
    "    pass\n",
    "else:\n",
    "    print(obj.balance)\n",
    "    "
   ]
  },
  {
   "cell_type": "code",
   "execution_count": 181,
   "id": "815d24a8",
   "metadata": {},
   "outputs": [
    {
     "name": "stdout",
     "output_type": "stream",
     "text": [
      "welcome\n",
      "sudhanshu\n",
      "database connection closed\n"
     ]
    }
   ],
   "source": [
    "class SecurityError(Exception):\n",
    "    def __init__(self,message):\n",
    "        print(message) \n",
    "        \n",
    "    def logout(self):\n",
    "        print(\"Loggged out\")\n",
    "    \n",
    "    \n",
    "class Google:\n",
    "    def __init__(self,name,email,password,device):\n",
    "        self.name =name\n",
    "        self.email = email\n",
    "        self.password =password\n",
    "        self.device = device\n",
    "    def login(self,email,password,device):\n",
    "        if device != self.device:\n",
    "            raise SecurityError(\"Someone logged in from different device\")\n",
    "        if email == self.email and password == self.password:\n",
    "            print(\"welcome\")\n",
    "        else:\n",
    "            print(\"Login error\")\n",
    "            \n",
    "obj = Google(\"sudhanshu\",\"sudhanshubiswal15@gmail.com\",\"1234\",\"android\")\n",
    "\n",
    "try:\n",
    "    obj.login(\"sudhanshubiswal15@gmail.com\",\"1234\",\"android\")\n",
    "    \n",
    "except SecurityError as e:\n",
    "    e.logout()\n",
    "else:\n",
    "    print(obj.name)\n",
    "finally:\n",
    "    print(\"database connection closed\")\n",
    "\n",
    "    "
   ]
  },
  {
   "cell_type": "markdown",
   "id": "60ec5b35",
   "metadata": {},
   "source": [
    "# Namespaces"
   ]
  },
  {
   "cell_type": "markdown",
   "id": "d87bbb5a",
   "metadata": {},
   "source": [
    "A namespace is a space that holds names(identifiers). Programmatically speaking, namespaces are dictionary of identifiers(keys) and their objects(value)"
   ]
  },
  {
   "cell_type": "markdown",
   "id": "581127f4",
   "metadata": {},
   "source": [
    "there are 4 types of namespaces:"
   ]
  },
  {
   "cell_type": "markdown",
   "id": "3a0d42c9",
   "metadata": {},
   "source": [
    "> Builtin Namespace\n",
    "> Global Namespace\n",
    "> Enclosing Namespace\n",
    "> Local Namespace"
   ]
  },
  {
   "cell_type": "markdown",
   "id": "d92486a9",
   "metadata": {},
   "source": [
    "# Scope and LEGB Rule"
   ]
  },
  {
   "cell_type": "markdown",
   "id": "03be449d",
   "metadata": {},
   "source": [
    "A scope is a textual region of a Python program where a namespace is directly accessible."
   ]
  },
  {
   "cell_type": "markdown",
   "id": "d29fc4b0",
   "metadata": {},
   "source": [
    "The interpreter searches for a name from the inside out, looking in the local, enclosing, global, and finally built-in scope.\n",
    "If the interpreter doesn't find the name in ant of these location. then raise a Nameerror exception.\n",
    "\n"
   ]
  },
  {
   "cell_type": "code",
   "execution_count": 182,
   "id": "4bdcdc72",
   "metadata": {},
   "outputs": [
    {
     "name": "stdout",
     "output_type": "stream",
     "text": [
      "3\n",
      "2\n"
     ]
    }
   ],
   "source": [
    "#Local and Global\n",
    "#global var\n",
    "a = 2\n",
    "def temp():\n",
    "    #local var\n",
    "    b = 3\n",
    "    print(b)\n",
    "    \n",
    "temp()\n",
    "print(a)"
   ]
  },
  {
   "cell_type": "code",
   "execution_count": 183,
   "id": "8a578c4c",
   "metadata": {},
   "outputs": [
    {
     "name": "stdout",
     "output_type": "stream",
     "text": [
      "['ArithmeticError', 'AssertionError', 'AttributeError', 'BaseException', 'BlockingIOError', 'BrokenPipeError', 'BufferError', 'BytesWarning', 'ChildProcessError', 'ConnectionAbortedError', 'ConnectionError', 'ConnectionRefusedError', 'ConnectionResetError', 'DeprecationWarning', 'EOFError', 'Ellipsis', 'EnvironmentError', 'Exception', 'False', 'FileExistsError', 'FileNotFoundError', 'FloatingPointError', 'FutureWarning', 'GeneratorExit', 'IOError', 'ImportError', 'ImportWarning', 'IndentationError', 'IndexError', 'InterruptedError', 'IsADirectoryError', 'KeyError', 'KeyboardInterrupt', 'LookupError', 'MemoryError', 'ModuleNotFoundError', 'NameError', 'None', 'NotADirectoryError', 'NotImplemented', 'NotImplementedError', 'OSError', 'OverflowError', 'PendingDeprecationWarning', 'PermissionError', 'ProcessLookupError', 'RecursionError', 'ReferenceError', 'ResourceWarning', 'RuntimeError', 'RuntimeWarning', 'StopAsyncIteration', 'StopIteration', 'SyntaxError', 'SyntaxWarning', 'SystemError', 'SystemExit', 'TabError', 'TimeoutError', 'True', 'TypeError', 'UnboundLocalError', 'UnicodeDecodeError', 'UnicodeEncodeError', 'UnicodeError', 'UnicodeTranslateError', 'UnicodeWarning', 'UserWarning', 'ValueError', 'Warning', 'ZeroDivisionError', '__IPYTHON__', '__build_class__', '__debug__', '__doc__', '__import__', '__loader__', '__name__', '__package__', '__spec__', 'abs', 'all', 'any', 'ascii', 'bin', 'bool', 'breakpoint', 'bytearray', 'bytes', 'callable', 'chr', 'classmethod', 'compile', 'complex', 'copyright', 'credits', 'delattr', 'dict', 'dir', 'display', 'divmod', 'enumerate', 'eval', 'exec', 'execfile', 'filter', 'float', 'format', 'frozenset', 'get_ipython', 'getattr', 'globals', 'hasattr', 'hash', 'help', 'hex', 'id', 'input', 'int', 'isinstance', 'issubclass', 'iter', 'len', 'license', 'list', 'locals', 'map', 'max', 'memoryview', 'min', 'next', 'object', 'oct', 'open', 'ord', 'pow', 'print', 'property', 'range', 'repr', 'reversed', 'round', 'runfile', 'set', 'setattr', 'slice', 'sorted', 'staticmethod', 'str', 'sum', 'super', 'tuple', 'type', 'vars', 'zip']\n"
     ]
    }
   ],
   "source": [
    "#built-in scope\n",
    "import builtins\n",
    "print(dir(builtins))"
   ]
  },
  {
   "cell_type": "code",
   "execution_count": 184,
   "id": "1b0f2d03",
   "metadata": {},
   "outputs": [
    {
     "ename": "TypeError",
     "evalue": "max() takes 0 positional arguments but 1 was given",
     "output_type": "error",
     "traceback": [
      "\u001b[0;31m---------------------------------------------------------------------------\u001b[0m",
      "\u001b[0;31mTypeError\u001b[0m                                 Traceback (most recent call last)",
      "Input \u001b[0;32mIn [184]\u001b[0m, in \u001b[0;36m<cell line: 5>\u001b[0;34m()\u001b[0m\n\u001b[1;32m      3\u001b[0m \u001b[38;5;28;01mdef\u001b[39;00m \u001b[38;5;21mmax\u001b[39m():\n\u001b[1;32m      4\u001b[0m     \u001b[38;5;28mprint\u001b[39m(\u001b[38;5;124m\"\u001b[39m\u001b[38;5;124mhello\u001b[39m\u001b[38;5;124m\"\u001b[39m)\n\u001b[0;32m----> 5\u001b[0m \u001b[38;5;28;43mmax\u001b[39;49m\u001b[43m(\u001b[49m\u001b[43mL\u001b[49m\u001b[43m)\u001b[49m\n",
      "\u001b[0;31mTypeError\u001b[0m: max() takes 0 positional arguments but 1 was given"
     ]
    }
   ],
   "source": [
    "#renaming built-ins\n",
    "L = [1,2,3]\n",
    "def max():\n",
    "    print(\"hello\")\n",
    "max(L)"
   ]
  },
  {
   "cell_type": "code",
   "execution_count": 185,
   "id": "a29a26ee",
   "metadata": {},
   "outputs": [
    {
     "name": "stdout",
     "output_type": "stream",
     "text": [
      "inner function\n",
      "outer function\n",
      "main function\n"
     ]
    }
   ],
   "source": [
    "# Enclosing scope\n",
    "#(inside nested function)\n",
    "\n",
    "def outer(): #enclosing (non local)\n",
    "    def inner(): #local\n",
    "        print('inner function') \n",
    "    inner()\n",
    "    print('outer function')\n",
    "outer()\n",
    "print('main function')"
   ]
  },
  {
   "cell_type": "code",
   "execution_count": 187,
   "id": "2706ecb4",
   "metadata": {},
   "outputs": [
    {
     "name": "stdout",
     "output_type": "stream",
     "text": [
      "inner 2\n",
      "outer 2\n",
      "main function\n"
     ]
    }
   ],
   "source": [
    "#non local keyword\n",
    "def outer(): #enclosing (non local)\n",
    "    a = 1\n",
    "    def inner(): #local\n",
    "        nonlocal a\n",
    "        a +=1\n",
    "        print('inner',a) \n",
    "    inner()\n",
    "    print('outer',a)\n",
    "outer()\n",
    "print('main function')"
   ]
  },
  {
   "cell_type": "markdown",
   "id": "e864ee4e",
   "metadata": {},
   "source": [
    "# Decorators"
   ]
  },
  {
   "cell_type": "markdown",
   "id": "3dfa4527",
   "metadata": {},
   "source": [
    "A decorator in python is a function that receives another function as input and adds some functionality(decoration)to it and returns it.\n"
   ]
  },
  {
   "cell_type": "code",
   "execution_count": 189,
   "id": "e51d1719",
   "metadata": {},
   "outputs": [
    {
     "data": {
      "text/plain": [
       "4"
      ]
     },
     "execution_count": 189,
     "metadata": {},
     "output_type": "execute_result"
    }
   ],
   "source": [
    "def modify(func,num):\n",
    "    return func(num)\n",
    "def square(num):\n",
    "    return num**2\n",
    "modify(square,2)"
   ]
  },
  {
   "cell_type": "code",
   "execution_count": 190,
   "id": "fcae8c7c",
   "metadata": {},
   "outputs": [
    {
     "name": "stdout",
     "output_type": "stream",
     "text": [
      "*****************\n",
      "Hello sudhanshu\n",
      "*****************\n"
     ]
    }
   ],
   "source": [
    "#example\n",
    "def my_decorator(func):\n",
    "    def wrapper():\n",
    "        print(\"*****************\")\n",
    "        func()\n",
    "        print(\"*****************\")\n",
    "    return wrapper\n",
    "def hello():\n",
    "    print(\"Hello sudhanshu\")\n",
    "a = my_decorator(hello)\n",
    "a()"
   ]
  },
  {
   "cell_type": "code",
   "execution_count": 192,
   "id": "95ebee55",
   "metadata": {},
   "outputs": [
    {
     "name": "stdout",
     "output_type": "stream",
     "text": [
      "*****************\n",
      "hello\n",
      "*****************\n",
      "*****************\n",
      "hello sudhanshu\n",
      "*****************\n"
     ]
    }
   ],
   "source": [
    "def my_decorator(func):\n",
    "    def wrapper():\n",
    "        print(\"*****************\")\n",
    "        func()\n",
    "        print(\"*****************\")\n",
    "    return wrapper\n",
    "def hello():\n",
    "    print(\"hello\")\n",
    "def display():\n",
    "    print(\"hello sudhanshu\")\n",
    "a = my_decorator(hello)\n",
    "a()\n",
    "b = my_decorator(display)\n",
    "b()"
   ]
  },
  {
   "cell_type": "code",
   "execution_count": 193,
   "id": "dd8f689d",
   "metadata": {},
   "outputs": [],
   "source": [
    "def test1(func):\n",
    "    def test2():\n",
    "        print(\"i am inside test2\")\n",
    "        func()\n",
    "    return test2\n",
    "def test3():\n",
    "    print(\"hii\")\n",
    "a = test1(test3)"
   ]
  },
  {
   "cell_type": "code",
   "execution_count": 195,
   "id": "60bc1fb3",
   "metadata": {},
   "outputs": [
    {
     "name": "stdout",
     "output_type": "stream",
     "text": [
      "i am inside test2\n",
      "hii\n"
     ]
    }
   ],
   "source": [
    "a()"
   ]
  },
  {
   "cell_type": "code",
   "execution_count": 206,
   "id": "56481a1c",
   "metadata": {},
   "outputs": [],
   "source": [
    "@test1\n",
    "def test4():\n",
    "    print(\"hello\")"
   ]
  },
  {
   "cell_type": "code",
   "execution_count": 207,
   "id": "ae5fcb4f",
   "metadata": {},
   "outputs": [
    {
     "name": "stdout",
     "output_type": "stream",
     "text": [
      "i am inside test2\n",
      "hello\n"
     ]
    }
   ],
   "source": [
    "test4()\n"
   ]
  },
  {
   "cell_type": "code",
   "execution_count": 245,
   "id": "dbd66109",
   "metadata": {},
   "outputs": [],
   "source": [
    "def test5(func):\n",
    "    def new(*args):\n",
    "        print(\"I am noob\")\n",
    "        func(*args)\n",
    "        return func(*args)\n",
    "    return new"
   ]
  },
  {
   "cell_type": "code",
   "execution_count": 246,
   "id": "ea9a968a",
   "metadata": {},
   "outputs": [],
   "source": [
    "@test5\n",
    "def test6(a,b):\n",
    "    return a+b"
   ]
  },
  {
   "cell_type": "code",
   "execution_count": 247,
   "id": "f788a686",
   "metadata": {
    "scrolled": true
   },
   "outputs": [
    {
     "name": "stdout",
     "output_type": "stream",
     "text": [
      "I am noob\n"
     ]
    },
    {
     "data": {
      "text/plain": [
       "7"
      ]
     },
     "execution_count": 247,
     "metadata": {},
     "output_type": "execute_result"
    }
   ],
   "source": [
    "test6(3,4)"
   ]
  },
  {
   "cell_type": "code",
   "execution_count": 250,
   "id": "0e342b83",
   "metadata": {},
   "outputs": [],
   "source": [
    "import time\n",
    "def timer(func):\n",
    "    def wrapper(*args):\n",
    "        start = time.time()\n",
    "        func(*args)\n",
    "        print('time taken by',func.__name__,time.time()-start,'secs')\n",
    "    return wrapper\n",
    "\n",
    "@timer\n",
    "def hello():\n",
    "    print(\"hello world\")\n",
    "    time.sleep(2)\n"
   ]
  },
  {
   "cell_type": "code",
   "execution_count": 251,
   "id": "b3723ada",
   "metadata": {},
   "outputs": [
    {
     "name": "stdout",
     "output_type": "stream",
     "text": [
      "hello world\n",
      "time taken by hello 2.000131845474243 secs\n"
     ]
    }
   ],
   "source": [
    "hello()"
   ]
  },
  {
   "cell_type": "code",
   "execution_count": 252,
   "id": "72e8dbe9",
   "metadata": {},
   "outputs": [],
   "source": [
    "@timer\n",
    "def square(num):\n",
    "    print(num**2)"
   ]
  },
  {
   "cell_type": "code",
   "execution_count": 253,
   "id": "f517dc9a",
   "metadata": {},
   "outputs": [
    {
     "name": "stdout",
     "output_type": "stream",
     "text": [
      "9\n",
      "time taken by square 0.0001327991485595703 secs\n"
     ]
    }
   ],
   "source": [
    "square(3)"
   ]
  },
  {
   "cell_type": "code",
   "execution_count": 275,
   "id": "28ec2105",
   "metadata": {},
   "outputs": [],
   "source": [
    "def sanity_check(data_type):\n",
    "    def outer_wrapper(func):\n",
    "        def inner_wrapper(*args):\n",
    "            if type(*args) ==data_type:\n",
    "                func(*args)\n",
    "            else:\n",
    "                raise TypeError(\"Wrong data type\")\n",
    "        return inner_wrapper\n",
    "    return outer_wrapper\n",
    "@sanity_check(int)\n",
    "def square(num):\n",
    "    print(num**2)"
   ]
  },
  {
   "cell_type": "code",
   "execution_count": 276,
   "id": "49bdcd6d",
   "metadata": {},
   "outputs": [
    {
     "name": "stdout",
     "output_type": "stream",
     "text": [
      "4\n"
     ]
    }
   ],
   "source": [
    "square(2)"
   ]
  },
  {
   "cell_type": "code",
   "execution_count": 277,
   "id": "47ac8931",
   "metadata": {},
   "outputs": [
    {
     "ename": "TypeError",
     "evalue": "Wrong data type",
     "output_type": "error",
     "traceback": [
      "\u001b[0;31m---------------------------------------------------------------------------\u001b[0m",
      "\u001b[0;31mTypeError\u001b[0m                                 Traceback (most recent call last)",
      "Input \u001b[0;32mIn [277]\u001b[0m, in \u001b[0;36m<cell line: 1>\u001b[0;34m()\u001b[0m\n\u001b[0;32m----> 1\u001b[0m \u001b[43msquare\u001b[49m\u001b[43m(\u001b[49m\u001b[43mhello\u001b[49m\u001b[43m)\u001b[49m\n",
      "Input \u001b[0;32mIn [275]\u001b[0m, in \u001b[0;36msanity_check.<locals>.outer_wrapper.<locals>.inner_wrapper\u001b[0;34m(*args)\u001b[0m\n\u001b[1;32m      5\u001b[0m     func(\u001b[38;5;241m*\u001b[39margs)\n\u001b[1;32m      6\u001b[0m \u001b[38;5;28;01melse\u001b[39;00m:\n\u001b[0;32m----> 7\u001b[0m     \u001b[38;5;28;01mraise\u001b[39;00m \u001b[38;5;167;01mTypeError\u001b[39;00m(\u001b[38;5;124m\"\u001b[39m\u001b[38;5;124mWrong data type\u001b[39m\u001b[38;5;124m\"\u001b[39m)\n",
      "\u001b[0;31mTypeError\u001b[0m: Wrong data type"
     ]
    }
   ],
   "source": [
    "square(hello)"
   ]
  },
  {
   "cell_type": "code",
   "execution_count": 278,
   "id": "87c9daf5",
   "metadata": {},
   "outputs": [],
   "source": [
    "@sanity_check(str)\n",
    "def greet(name):\n",
    "    print(\"hello\",name)"
   ]
  },
  {
   "cell_type": "code",
   "execution_count": 267,
   "id": "e022a9fa",
   "metadata": {},
   "outputs": [
    {
     "name": "stdout",
     "output_type": "stream",
     "text": [
      "hello sudhanshu\n"
     ]
    }
   ],
   "source": [
    "greet(\"sudhanshu\")"
   ]
  },
  {
   "cell_type": "markdown",
   "id": "79fff339",
   "metadata": {},
   "source": [
    "# What is Itertation"
   ]
  },
  {
   "cell_type": "markdown",
   "id": "f3373c3f",
   "metadata": {},
   "source": [
    "Iteration is general term for taking each item of something, one after another. Any time you use a loop, explicit or implicit, togo over a group of items, that is iteration."
   ]
  },
  {
   "cell_type": "code",
   "execution_count": 279,
   "id": "2528361d",
   "metadata": {},
   "outputs": [
    {
     "name": "stdout",
     "output_type": "stream",
     "text": [
      "1\n",
      "2\n",
      "3\n",
      "4\n"
     ]
    }
   ],
   "source": [
    "#example\n",
    "\n",
    "l = [1,2,3,4]\n",
    "for i in l:\n",
    "    print(i)"
   ]
  },
  {
   "cell_type": "markdown",
   "id": "5ff785cd",
   "metadata": {},
   "source": [
    "# What is Iterator"
   ]
  },
  {
   "cell_type": "markdown",
   "id": "1c1aafc3",
   "metadata": {},
   "source": [
    "An iterator is an object that allows the programmer to traverse through a sequence of data without having to store the entire data in the memory."
   ]
  },
  {
   "cell_type": "code",
   "execution_count": 281,
   "id": "6ef20556",
   "metadata": {},
   "outputs": [
    {
     "name": "stdout",
     "output_type": "stream",
     "text": [
      "800984\n",
      "48\n"
     ]
    }
   ],
   "source": [
    "#example\n",
    "L = [x for x in range(1,100000)]\n",
    "import sys\n",
    "\n",
    "#for i in L:\n",
    "    #print(i*2)\n",
    "print(sys.getsizeof(L))\n",
    "x = range(1,100000)\n",
    "#for i in x:\n",
    "    #print(i**2)\n",
    "print(sys.getsizeof(x))\n"
   ]
  },
  {
   "cell_type": "markdown",
   "id": "ba15b4f9",
   "metadata": {},
   "source": [
    "# What is iterble"
   ]
  },
  {
   "cell_type": "markdown",
   "id": "fe1cd6e3",
   "metadata": {},
   "source": [
    "Iterable is an object, which one can iterate over"
   ]
  },
  {
   "cell_type": "markdown",
   "id": "a8978c44",
   "metadata": {},
   "source": [
    "It generate an iterator when passed to iter() method"
   ]
  },
  {
   "cell_type": "code",
   "execution_count": 282,
   "id": "0cb78b21",
   "metadata": {},
   "outputs": [
    {
     "data": {
      "text/plain": [
       "list_iterator"
      ]
     },
     "execution_count": 282,
     "metadata": {},
     "output_type": "execute_result"
    }
   ],
   "source": [
    "#example\n",
    "l = [1,2,3]\n",
    "type(l)\n",
    "\n",
    "#l is an iterable\n",
    "type(iter(l))\n",
    "\n",
    "#iter(L)"
   ]
  },
  {
   "cell_type": "markdown",
   "id": "82d227fe",
   "metadata": {},
   "source": [
    "# Point to remember"
   ]
  },
  {
   "cell_type": "markdown",
   "id": "894c6b77",
   "metadata": {},
   "source": [
    "Every iterator is also iterable"
   ]
  },
  {
   "cell_type": "markdown",
   "id": "158c0fc4",
   "metadata": {},
   "source": [
    "Not all iterables are iterators"
   ]
  },
  {
   "cell_type": "markdown",
   "id": "95bc7398",
   "metadata": {},
   "source": [
    "# Trick"
   ]
  },
  {
   "cell_type": "markdown",
   "id": "b5afd44c",
   "metadata": {},
   "source": [
    "every iterable has an iter function\n",
    "\n",
    "every iterator has both iter function as well as next function"
   ]
  },
  {
   "cell_type": "code",
   "execution_count": 283,
   "id": "a92adf17",
   "metadata": {},
   "outputs": [
    {
     "data": {
      "text/plain": [
       "['__abs__',\n",
       " '__add__',\n",
       " '__and__',\n",
       " '__bool__',\n",
       " '__ceil__',\n",
       " '__class__',\n",
       " '__delattr__',\n",
       " '__dir__',\n",
       " '__divmod__',\n",
       " '__doc__',\n",
       " '__eq__',\n",
       " '__float__',\n",
       " '__floor__',\n",
       " '__floordiv__',\n",
       " '__format__',\n",
       " '__ge__',\n",
       " '__getattribute__',\n",
       " '__getnewargs__',\n",
       " '__gt__',\n",
       " '__hash__',\n",
       " '__index__',\n",
       " '__init__',\n",
       " '__init_subclass__',\n",
       " '__int__',\n",
       " '__invert__',\n",
       " '__le__',\n",
       " '__lshift__',\n",
       " '__lt__',\n",
       " '__mod__',\n",
       " '__mul__',\n",
       " '__ne__',\n",
       " '__neg__',\n",
       " '__new__',\n",
       " '__or__',\n",
       " '__pos__',\n",
       " '__pow__',\n",
       " '__radd__',\n",
       " '__rand__',\n",
       " '__rdivmod__',\n",
       " '__reduce__',\n",
       " '__reduce_ex__',\n",
       " '__repr__',\n",
       " '__rfloordiv__',\n",
       " '__rlshift__',\n",
       " '__rmod__',\n",
       " '__rmul__',\n",
       " '__ror__',\n",
       " '__round__',\n",
       " '__rpow__',\n",
       " '__rrshift__',\n",
       " '__rshift__',\n",
       " '__rsub__',\n",
       " '__rtruediv__',\n",
       " '__rxor__',\n",
       " '__setattr__',\n",
       " '__sizeof__',\n",
       " '__str__',\n",
       " '__sub__',\n",
       " '__subclasshook__',\n",
       " '__truediv__',\n",
       " '__trunc__',\n",
       " '__xor__',\n",
       " 'as_integer_ratio',\n",
       " 'bit_length',\n",
       " 'conjugate',\n",
       " 'denominator',\n",
       " 'from_bytes',\n",
       " 'imag',\n",
       " 'numerator',\n",
       " 'real',\n",
       " 'to_bytes']"
      ]
     },
     "execution_count": 283,
     "metadata": {},
     "output_type": "execute_result"
    }
   ],
   "source": [
    "a = 2\n",
    "dir(a)"
   ]
  },
  {
   "cell_type": "code",
   "execution_count": 284,
   "id": "1efeafda",
   "metadata": {},
   "outputs": [
    {
     "data": {
      "text/plain": [
       "['__add__',\n",
       " '__class__',\n",
       " '__class_getitem__',\n",
       " '__contains__',\n",
       " '__delattr__',\n",
       " '__dir__',\n",
       " '__doc__',\n",
       " '__eq__',\n",
       " '__format__',\n",
       " '__ge__',\n",
       " '__getattribute__',\n",
       " '__getitem__',\n",
       " '__getnewargs__',\n",
       " '__gt__',\n",
       " '__hash__',\n",
       " '__init__',\n",
       " '__init_subclass__',\n",
       " '__iter__',\n",
       " '__le__',\n",
       " '__len__',\n",
       " '__lt__',\n",
       " '__mul__',\n",
       " '__ne__',\n",
       " '__new__',\n",
       " '__reduce__',\n",
       " '__reduce_ex__',\n",
       " '__repr__',\n",
       " '__rmul__',\n",
       " '__setattr__',\n",
       " '__sizeof__',\n",
       " '__str__',\n",
       " '__subclasshook__',\n",
       " 'count',\n",
       " 'index']"
      ]
     },
     "execution_count": 284,
     "metadata": {},
     "output_type": "execute_result"
    }
   ],
   "source": [
    "tup1 = (1,2,3)\n",
    "dir(tup1)"
   ]
  },
  {
   "cell_type": "code",
   "execution_count": 286,
   "id": "2e99483e",
   "metadata": {},
   "outputs": [
    {
     "data": {
      "text/plain": [
       "['__class__',\n",
       " '__delattr__',\n",
       " '__dir__',\n",
       " '__doc__',\n",
       " '__eq__',\n",
       " '__format__',\n",
       " '__ge__',\n",
       " '__getattribute__',\n",
       " '__gt__',\n",
       " '__hash__',\n",
       " '__init__',\n",
       " '__init_subclass__',\n",
       " '__iter__',\n",
       " '__le__',\n",
       " '__length_hint__',\n",
       " '__lt__',\n",
       " '__ne__',\n",
       " '__new__',\n",
       " '__next__',\n",
       " '__reduce__',\n",
       " '__reduce_ex__',\n",
       " '__repr__',\n",
       " '__setattr__',\n",
       " '__setstate__',\n",
       " '__sizeof__',\n",
       " '__str__',\n",
       " '__subclasshook__']"
      ]
     },
     "execution_count": 286,
     "metadata": {},
     "output_type": "execute_result"
    }
   ],
   "source": [
    "l = [1,2,3]\n",
    "#l is not an iterator\n",
    "iter_l = iter(l)\n",
    "#iter_l is an iterator\n",
    "dir(iter_l) #(both __iter__ and __next__ avail)"
   ]
  },
  {
   "cell_type": "markdown",
   "id": "55d54d46",
   "metadata": {},
   "source": [
    "# Understanding how for loop works"
   ]
  },
  {
   "cell_type": "code",
   "execution_count": 288,
   "id": "2b56a124",
   "metadata": {},
   "outputs": [
    {
     "ename": "StopIteration",
     "evalue": "",
     "output_type": "error",
     "traceback": [
      "\u001b[0;31m---------------------------------------------------------------------------\u001b[0m",
      "\u001b[0;31mStopIteration\u001b[0m                             Traceback (most recent call last)",
      "Input \u001b[0;32mIn [288]\u001b[0m, in \u001b[0;36m<cell line: 8>\u001b[0;34m()\u001b[0m\n\u001b[1;32m      6\u001b[0m \u001b[38;5;28mnext\u001b[39m(iter_num)\n\u001b[1;32m      7\u001b[0m \u001b[38;5;28mnext\u001b[39m(iter_num)\n\u001b[0;32m----> 8\u001b[0m \u001b[38;5;28;43mnext\u001b[39;49m\u001b[43m(\u001b[49m\u001b[43miter_num\u001b[49m\u001b[43m)\u001b[49m\n",
      "\u001b[0;31mStopIteration\u001b[0m: "
     ]
    }
   ],
   "source": [
    "num = [1,2,3]\n",
    "#fetch the iterator\n",
    "iter_num = iter(num)\n",
    "#step 2 --> next\n",
    "next(iter_num)\n",
    "next(iter_num)\n",
    "next(iter_num)\n",
    "next(iter_num)"
   ]
  },
  {
   "cell_type": "markdown",
   "id": "4113770a",
   "metadata": {},
   "source": [
    "# making our own loop"
   ]
  },
  {
   "cell_type": "code",
   "execution_count": 289,
   "id": "ee36bb5a",
   "metadata": {},
   "outputs": [],
   "source": [
    "def my_for_loop(iterable):\n",
    "    \n",
    "    iterator = iter(iterable)\n",
    "    \n",
    "    while True:\n",
    "        try:\n",
    "            print(next(iterator))\n",
    "        except StopIteration:\n",
    "            break"
   ]
  },
  {
   "cell_type": "code",
   "execution_count": 1,
   "id": "a80a1d5b",
   "metadata": {},
   "outputs": [
    {
     "ename": "TypeError",
     "evalue": "'int' object is not iterable",
     "output_type": "error",
     "traceback": [
      "\u001b[0;31m---------------------------------------------------------------------------\u001b[0m",
      "\u001b[0;31mTypeError\u001b[0m                                 Traceback (most recent call last)",
      "\u001b[0;32m/var/folders/v6/6g1664dd7x3fkdltldgf0rg40000gn/T/ipykernel_12147/3067047191.py\u001b[0m in \u001b[0;36m<module>\u001b[0;34m\u001b[0m\n\u001b[0;32m----> 1\u001b[0;31m \u001b[0;32mfor\u001b[0m \u001b[0mi\u001b[0m \u001b[0;32min\u001b[0m \u001b[0;36m567\u001b[0m\u001b[0;34m:\u001b[0m\u001b[0;34m\u001b[0m\u001b[0;34m\u001b[0m\u001b[0m\n\u001b[0m\u001b[1;32m      2\u001b[0m     \u001b[0mprint\u001b[0m\u001b[0;34m(\u001b[0m\u001b[0mi\u001b[0m\u001b[0;34m)\u001b[0m\u001b[0;34m\u001b[0m\u001b[0;34m\u001b[0m\u001b[0m\n",
      "\u001b[0;31mTypeError\u001b[0m: 'int' object is not iterable"
     ]
    }
   ],
   "source": [
    "for i in 567:\n",
    "    print(i)"
   ]
  },
  {
   "cell_type": "code",
   "execution_count": 2,
   "id": "f7a0786a",
   "metadata": {},
   "outputs": [
    {
     "ename": "AttributeError",
     "evalue": "type object 'list' has no attribute 'dir'",
     "output_type": "error",
     "traceback": [
      "\u001b[0;31m---------------------------------------------------------------------------\u001b[0m",
      "\u001b[0;31mAttributeError\u001b[0m                            Traceback (most recent call last)",
      "\u001b[0;32m/var/folders/v6/6g1664dd7x3fkdltldgf0rg40000gn/T/ipykernel_12147/2370509717.py\u001b[0m in \u001b[0;36m<module>\u001b[0;34m\u001b[0m\n\u001b[0;32m----> 1\u001b[0;31m \u001b[0mlist\u001b[0m\u001b[0;34m.\u001b[0m\u001b[0mdir\u001b[0m\u001b[0;34m\u001b[0m\u001b[0;34m\u001b[0m\u001b[0m\n\u001b[0m",
      "\u001b[0;31mAttributeError\u001b[0m: type object 'list' has no attribute 'dir'"
     ]
    }
   ],
   "source": [
    "list.dir"
   ]
  },
  {
   "cell_type": "code",
   "execution_count": 291,
   "id": "66c5755c",
   "metadata": {},
   "outputs": [
    {
     "name": "stdout",
     "output_type": "stream",
     "text": [
      "1\n",
      "2\n",
      "3\n"
     ]
    }
   ],
   "source": [
    "a = [1,2,3]\n",
    "b = range(1,11)\n",
    "c = (1,2,3)\n",
    "d = {1,2,3}\n",
    "e = {0:1,1:1}\n",
    "my_for_loop(a)"
   ]
  },
  {
   "cell_type": "code",
   "execution_count": 292,
   "id": "94bd7b19",
   "metadata": {},
   "outputs": [],
   "source": [
    "def own_for_loop(iterable):\n",
    "    \n",
    "    iterator = iter(iterable)\n",
    "    \n",
    "    while True:\n",
    "        try:\n",
    "            print(next(iterator))\n",
    "        except StopIteration:\n",
    "            break"
   ]
  },
  {
   "cell_type": "code",
   "execution_count": 293,
   "id": "7098d52d",
   "metadata": {},
   "outputs": [
    {
     "name": "stdout",
     "output_type": "stream",
     "text": [
      "1\n",
      "2\n",
      "3\n",
      "4\n",
      "5\n",
      "6\n",
      "7\n",
      "8\n",
      "9\n",
      "10\n"
     ]
    }
   ],
   "source": [
    "my_for_loop(b)"
   ]
  },
  {
   "cell_type": "code",
   "execution_count": 294,
   "id": "f02be60f",
   "metadata": {},
   "outputs": [
    {
     "name": "stdout",
     "output_type": "stream",
     "text": [
      "140472813170400 address of iterator 1\n",
      "140472813170400 address of iterator 2\n"
     ]
    }
   ],
   "source": [
    "num = [1,2,3]\n",
    "iter_obj = iter(num)\n",
    "\n",
    "print(id(iter_obj),\"address of iterator 1\")\n",
    "iter_obj2 = iter(iter_obj)\n",
    "print(id(iter_obj2),\"address of iterator 2\")"
   ]
  },
  {
   "cell_type": "code",
   "execution_count": 311,
   "id": "7751e428",
   "metadata": {},
   "outputs": [],
   "source": [
    "class My_range:\n",
    "    def _init__(self,start,end):\n",
    "        self.start =start\n",
    "        self.end = end\n",
    "    def __iter__(self):\n",
    "        return My_range_iterator(self)\n"
   ]
  },
  {
   "cell_type": "code",
   "execution_count": 312,
   "id": "9daf0b66",
   "metadata": {},
   "outputs": [],
   "source": [
    "class My_range_iterator:\n",
    "    def __init__(self,iterable_obj):\n",
    "        self.iterable = iterable_obj\n",
    "    def __iter__(self):\n",
    "        return self\n",
    "    def __next__(self):\n",
    "        if self.iterable.start>= self.iterable.end:\n",
    "            raise StopIteration\n",
    "        current = self.iterable.start\n",
    "        self.iterable.start+=1\n",
    "        return current"
   ]
  },
  {
   "cell_type": "code",
   "execution_count": 313,
   "id": "26ca71fe",
   "metadata": {},
   "outputs": [
    {
     "ename": "TypeError",
     "evalue": "My_range() takes no arguments",
     "output_type": "error",
     "traceback": [
      "\u001b[0;31m---------------------------------------------------------------------------\u001b[0m",
      "\u001b[0;31mTypeError\u001b[0m                                 Traceback (most recent call last)",
      "Input \u001b[0;32mIn [313]\u001b[0m, in \u001b[0;36m<cell line: 1>\u001b[0;34m()\u001b[0m\n\u001b[0;32m----> 1\u001b[0m \u001b[38;5;28;01mfor\u001b[39;00m i \u001b[38;5;129;01min\u001b[39;00m \u001b[43mMy_range\u001b[49m\u001b[43m(\u001b[49m\u001b[38;5;241;43m1\u001b[39;49m\u001b[43m,\u001b[49m\u001b[38;5;241;43m11\u001b[39;49m\u001b[43m)\u001b[49m:\n\u001b[1;32m      2\u001b[0m     \u001b[38;5;28mprint\u001b[39m(i)\n",
      "\u001b[0;31mTypeError\u001b[0m: My_range() takes no arguments"
     ]
    }
   ],
   "source": [
    "for i in My_range(1,11):\n",
    "    print(i)"
   ]
  },
  {
   "cell_type": "code",
   "execution_count": 314,
   "id": "e366f5e4",
   "metadata": {},
   "outputs": [],
   "source": [
    "class mera_range:\n",
    "    \n",
    "    def __init__(self,start,end):\n",
    "        self.start = start\n",
    "        self.end = end\n",
    "        \n",
    "    def __iter__(self):\n",
    "        return mera_range_iterator(self)\n"
   ]
  },
  {
   "cell_type": "code",
   "execution_count": 315,
   "id": "962b69e0",
   "metadata": {},
   "outputs": [],
   "source": [
    "class mera_range_iterator:\n",
    "    \n",
    "    def __init__(self,iterable_obj):\n",
    "        self.iterable = iterable_obj\n",
    "    \n",
    "    def __iter__(self):\n",
    "        return self\n",
    "    \n",
    "    def __next__(self):\n",
    "        \n",
    "        if self.iterable.start >= self.iterable.end:\n",
    "            raise StopIteration\n",
    "            \n",
    "        current = self.iterable.start\n",
    "        self.iterable.start+=1\n",
    "        return current"
   ]
  },
  {
   "cell_type": "code",
   "execution_count": 316,
   "id": "7dcb6606",
   "metadata": {},
   "outputs": [
    {
     "name": "stdout",
     "output_type": "stream",
     "text": [
      "1\n",
      "2\n",
      "3\n",
      "4\n",
      "5\n",
      "6\n",
      "7\n",
      "8\n",
      "9\n",
      "10\n"
     ]
    }
   ],
   "source": [
    "for i in mera_range(1,11):\n",
    "    print(i)"
   ]
  },
  {
   "cell_type": "code",
   "execution_count": 317,
   "id": "e86f94e2",
   "metadata": {},
   "outputs": [],
   "source": [
    "x = mera_range(1,11)"
   ]
  },
  {
   "cell_type": "code",
   "execution_count": 318,
   "id": "46078797",
   "metadata": {},
   "outputs": [
    {
     "data": {
      "text/plain": [
       "__main__.mera_range"
      ]
     },
     "execution_count": 318,
     "metadata": {},
     "output_type": "execute_result"
    }
   ],
   "source": [
    "type(x)"
   ]
  },
  {
   "cell_type": "code",
   "execution_count": 319,
   "id": "47fbd2b3",
   "metadata": {},
   "outputs": [
    {
     "data": {
      "text/plain": [
       "<__main__.mera_range_iterator at 0x7fc2501832e0>"
      ]
     },
     "execution_count": 319,
     "metadata": {},
     "output_type": "execute_result"
    }
   ],
   "source": [
    "iter(x)"
   ]
  },
  {
   "cell_type": "markdown",
   "id": "fa2ba49c",
   "metadata": {},
   "source": [
    "# Generators"
   ]
  },
  {
   "cell_type": "markdown",
   "id": "a5970079",
   "metadata": {},
   "source": [
    "Python generators are a simple way of creating iterators"
   ]
  },
  {
   "cell_type": "code",
   "execution_count": 326,
   "id": "e9612f89",
   "metadata": {},
   "outputs": [],
   "source": [
    "def gen_demo():\n",
    "    \n",
    "    yield \"first statement\"\n",
    "    yield \"second statement\"    \n",
    "    yield \"third statement\"    "
   ]
  },
  {
   "cell_type": "code",
   "execution_count": 327,
   "id": "25bfc78d",
   "metadata": {},
   "outputs": [],
   "source": [
    "gen = gen_demo()"
   ]
  },
  {
   "cell_type": "code",
   "execution_count": 328,
   "id": "8434f33b",
   "metadata": {},
   "outputs": [
    {
     "name": "stdout",
     "output_type": "stream",
     "text": [
      "<generator object gen_demo at 0x7fc240b9af90>\n"
     ]
    }
   ],
   "source": [
    "print(gen)"
   ]
  },
  {
   "cell_type": "code",
   "execution_count": 329,
   "id": "58c83448",
   "metadata": {},
   "outputs": [
    {
     "name": "stdout",
     "output_type": "stream",
     "text": [
      "first statement\n",
      "second statement\n",
      "third statement\n"
     ]
    }
   ],
   "source": [
    "print(next(gen))\n",
    "print(next(gen))\n",
    "print(next(gen))"
   ]
  },
  {
   "cell_type": "markdown",
   "id": "1914da7c",
   "metadata": {},
   "source": [
    "# yield vs return"
   ]
  },
  {
   "cell_type": "markdown",
   "id": "0e673bd3",
   "metadata": {},
   "source": [
    "return ends the function but yield remember where it end and start from the next item"
   ]
  },
  {
   "cell_type": "code",
   "execution_count": 341,
   "id": "18334539",
   "metadata": {},
   "outputs": [],
   "source": [
    "#example\n",
    "\n",
    "def square(num):\n",
    "    for i in range(1,num+1):\n",
    "        yield i**2"
   ]
  },
  {
   "cell_type": "code",
   "execution_count": 342,
   "id": "85f127ce",
   "metadata": {},
   "outputs": [],
   "source": [
    "gen = square(10)"
   ]
  },
  {
   "cell_type": "code",
   "execution_count": 343,
   "id": "66beaa87",
   "metadata": {},
   "outputs": [
    {
     "name": "stdout",
     "output_type": "stream",
     "text": [
      "1\n",
      "4\n",
      "9\n",
      "16\n",
      "25\n",
      "36\n",
      "49\n",
      "64\n",
      "81\n",
      "100\n"
     ]
    }
   ],
   "source": [
    "print(next(gen))\n",
    "print(next(gen))\n",
    "print(next(gen))\n",
    "for i in gen:\n",
    "    print(i)"
   ]
  },
  {
   "cell_type": "code",
   "execution_count": 349,
   "id": "0f35c369",
   "metadata": {},
   "outputs": [],
   "source": [
    "#Range func with generator\n",
    "\n",
    "def my_range(start,end):\n",
    "    for i in range(start,end):\n",
    "        yield i"
   ]
  },
  {
   "cell_type": "code",
   "execution_count": 350,
   "id": "1f73194a",
   "metadata": {},
   "outputs": [
    {
     "name": "stdout",
     "output_type": "stream",
     "text": [
      "15\n",
      "16\n",
      "17\n",
      "18\n",
      "19\n",
      "20\n",
      "21\n",
      "22\n",
      "23\n",
      "24\n",
      "25\n"
     ]
    }
   ],
   "source": [
    "for i in my_range(15,26):\n",
    "    print(i)"
   ]
  },
  {
   "cell_type": "code",
   "execution_count": 361,
   "id": "3059e5d7",
   "metadata": {},
   "outputs": [],
   "source": [
    "def square(num):\n",
    "    for i in range(1,num+1):\n",
    "        yield i**2"
   ]
  },
  {
   "cell_type": "code",
   "execution_count": 362,
   "id": "1d6016c6",
   "metadata": {},
   "outputs": [],
   "source": [
    "gen = square(10)"
   ]
  },
  {
   "cell_type": "code",
   "execution_count": 363,
   "id": "c80b03df",
   "metadata": {},
   "outputs": [
    {
     "name": "stdout",
     "output_type": "stream",
     "text": [
      "1\n",
      "4\n",
      "9\n",
      "16\n",
      "25\n",
      "36\n",
      "49\n",
      "64\n",
      "81\n",
      "100\n"
     ]
    }
   ],
   "source": [
    "for i in gen:\n",
    "    print(i)"
   ]
  },
  {
   "cell_type": "code",
   "execution_count": 364,
   "id": "0392e696",
   "metadata": {},
   "outputs": [],
   "source": [
    "def my_range(start,end):\n",
    "    for i in range(start,end):\n",
    "        yield i"
   ]
  },
  {
   "cell_type": "code",
   "execution_count": 366,
   "id": "15fea6b6",
   "metadata": {},
   "outputs": [
    {
     "name": "stdout",
     "output_type": "stream",
     "text": [
      "5\n",
      "6\n",
      "7\n",
      "8\n",
      "9\n",
      "10\n",
      "11\n"
     ]
    }
   ],
   "source": [
    "gen = my_range(5,12)\n",
    "for i in gen:\n",
    "    print (i)"
   ]
  },
  {
   "cell_type": "markdown",
   "id": "e2b3fb57",
   "metadata": {},
   "source": [
    "# Generator Expression"
   ]
  },
  {
   "cell_type": "code",
   "execution_count": 367,
   "id": "ef7309c7",
   "metadata": {},
   "outputs": [],
   "source": [
    "#list comprehension\n",
    "l = [i**2 for i in range(1,11)]"
   ]
  },
  {
   "cell_type": "code",
   "execution_count": 368,
   "id": "32987a27",
   "metadata": {},
   "outputs": [
    {
     "data": {
      "text/plain": [
       "[1, 4, 9, 16, 25, 36, 49, 64, 81, 100]"
      ]
     },
     "execution_count": 368,
     "metadata": {},
     "output_type": "execute_result"
    }
   ],
   "source": [
    "l"
   ]
  },
  {
   "cell_type": "code",
   "execution_count": 369,
   "id": "75ba2922",
   "metadata": {},
   "outputs": [
    {
     "name": "stdout",
     "output_type": "stream",
     "text": [
      "1\n",
      "4\n",
      "9\n",
      "16\n",
      "25\n",
      "36\n",
      "49\n",
      "64\n",
      "81\n",
      "100\n"
     ]
    }
   ],
   "source": [
    "gen = (i**2 for i in range(1,11))\n",
    "for i in gen:\n",
    "    print(i)"
   ]
  },
  {
   "cell_type": "markdown",
   "id": "0f33244b",
   "metadata": {},
   "source": [
    "# practical example"
   ]
  },
  {
   "cell_type": "raw",
   "id": "27215224",
   "metadata": {},
   "source": [
    "import os\n",
    "import cv2\n",
    "def image_data_reader(folder_path):\n",
    "    for file in os.listdir(folder_path)\n",
    "    f_array = cv2.imread(os.path.join(folder_path,file))\n",
    "    yield f_array"
   ]
  },
  {
   "cell_type": "code",
   "execution_count": null,
   "id": "5f41577b",
   "metadata": {},
   "outputs": [],
   "source": [
    "gen = image_data_reader(\"#\")\n"
   ]
  },
  {
   "cell_type": "markdown",
   "id": "149107ef",
   "metadata": {},
   "source": [
    "# Benefits of using a Generators"
   ]
  },
  {
   "cell_type": "raw",
   "id": "eebe0b4b",
   "metadata": {},
   "source": [
    "1. Ease of implementation\n",
    "2. Memory efficient\n",
    "3. representating infinte streams\n",
    "4. Chaining generators"
   ]
  },
  {
   "cell_type": "code",
   "execution_count": 376,
   "id": "fb2d1b31",
   "metadata": {},
   "outputs": [
    {
     "name": "stdout",
     "output_type": "stream",
     "text": [
      "Enter a number to find the factorial: 4\n",
      "24\n"
     ]
    }
   ],
   "source": [
    "num = int(input(\"Enter a number to find the factorial: \"))\n",
    "fact = 1\n",
    "for i in range(1,num+1):\n",
    "    fact = fact*i\n",
    "print(fact)"
   ]
  },
  {
   "cell_type": "code",
   "execution_count": null,
   "id": "9454f922",
   "metadata": {},
   "outputs": [],
   "source": []
  }
 ],
 "metadata": {
  "kernelspec": {
   "display_name": "Python 3 (ipykernel)",
   "language": "python",
   "name": "python3"
  },
  "language_info": {
   "codemirror_mode": {
    "name": "ipython",
    "version": 3
   },
   "file_extension": ".py",
   "mimetype": "text/x-python",
   "name": "python",
   "nbconvert_exporter": "python",
   "pygments_lexer": "ipython3",
   "version": "3.9.12"
  }
 },
 "nbformat": 4,
 "nbformat_minor": 5
}
